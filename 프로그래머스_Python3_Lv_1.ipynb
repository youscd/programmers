{
  "nbformat": 4,
  "nbformat_minor": 0,
  "metadata": {
    "colab": {
      "provenance": [],
      "authorship_tag": "ABX9TyOHFZVhY0S5Apu77z5h73Z7",
      "include_colab_link": true
    },
    "kernelspec": {
      "name": "python3",
      "display_name": "Python 3"
    },
    "language_info": {
      "name": "python"
    }
  },
  "cells": [
    {
      "cell_type": "markdown",
      "metadata": {
        "id": "view-in-github",
        "colab_type": "text"
      },
      "source": [
        "<a href=\"https://colab.research.google.com/github/youscd/programmers/blob/main/%ED%94%84%EB%A1%9C%EA%B7%B8%EB%9E%98%EB%A8%B8%EC%8A%A4_Python3_Lv_1.ipynb\" target=\"_parent\"><img src=\"https://colab.research.google.com/assets/colab-badge.svg\" alt=\"Open In Colab\"/></a>"
      ]
    },
    {
      "cell_type": "markdown",
      "source": [
        "# 230309"
      ],
      "metadata": {
        "id": "wCQs-f4T8s-z"
      }
    },
    {
      "cell_type": "markdown",
      "source": [
        "## 약수의 합\n",
        "정수 n을 입력받아 n의 약수를 모두 더한 값을 리턴하는 함수 solution 을 완성해주세요.\n",
        "\n",
        "*   n은 0 이상 3000 이하인 정수\n",
        "\n"
      ],
      "metadata": {
        "id": "urtoCp29CVQl"
      }
    },
    {
      "cell_type": "code",
      "execution_count": null,
      "metadata": {
        "id": "LatFMlSZCRoI"
      },
      "outputs": [],
      "source": [
        "import pandas as pd\n",
        "import numpy as np"
      ]
    },
    {
      "cell_type": "code",
      "source": [
        "def solution(n):\n",
        "  answer = 0\n",
        "  for m in range(1, n+1):\n",
        "    if n % m == 0:\n",
        "      answer += m\n",
        "    else:\n",
        "      pass\n",
        "\n",
        "  return answer"
      ],
      "metadata": {
        "id": "Jp98j45eCXbT"
      },
      "execution_count": null,
      "outputs": []
    },
    {
      "cell_type": "code",
      "source": [
        "solution(5)"
      ],
      "metadata": {
        "colab": {
          "base_uri": "https://localhost:8080/"
        },
        "id": "tSqXNsXvEES_",
        "outputId": "0a3cf8dd-b64f-4cef-f861-ccba3d2edf94"
      },
      "execution_count": null,
      "outputs": [
        {
          "output_type": "execute_result",
          "data": {
            "text/plain": [
              "6"
            ]
          },
          "metadata": {},
          "execution_count": 8
        }
      ]
    },
    {
      "cell_type": "code",
      "source": [],
      "metadata": {
        "id": "bsfXWk5KEHAn"
      },
      "execution_count": null,
      "outputs": []
    },
    {
      "cell_type": "markdown",
      "source": [
        "## 짝수와 홀수\n",
        "정수 num이 짝수일 경우 \"Even\"을 반환하고 홀수인 경우 \"Odd\"를 반환하는 함수, solution을 완성해주세요.\n",
        "\n",
        "*   num은 int 범위의 정수입니다.\n",
        "*   0은 짝수입니다."
      ],
      "metadata": {
        "id": "erUiU2JqFH6F"
      }
    },
    {
      "cell_type": "code",
      "source": [
        "def solution(num):\n",
        "    answer = ''\n",
        "    if num % 2 == 0:\n",
        "      answer = \"Even\"\n",
        "    else:\n",
        "      answer = \"Odd\"\n",
        "    return answer"
      ],
      "metadata": {
        "id": "mtevnnRTFS8G"
      },
      "execution_count": null,
      "outputs": []
    },
    {
      "cell_type": "code",
      "source": [
        "solution(0)"
      ],
      "metadata": {
        "colab": {
          "base_uri": "https://localhost:8080/",
          "height": 35
        },
        "id": "mUj7CL4SFy2S",
        "outputId": "a4e62cdf-a0c5-4761-a789-085b5186592a"
      },
      "execution_count": null,
      "outputs": [
        {
          "output_type": "execute_result",
          "data": {
            "text/plain": [
              "'Even'"
            ],
            "application/vnd.google.colaboratory.intrinsic+json": {
              "type": "string"
            }
          },
          "metadata": {},
          "execution_count": 16
        }
      ]
    },
    {
      "cell_type": "code",
      "source": [],
      "metadata": {
        "id": "qMx4Mp__F0Kz"
      },
      "execution_count": null,
      "outputs": []
    },
    {
      "cell_type": "markdown",
      "source": [
        "## 자릿수 더하기\n",
        "자연수 N이 주어지면, N의 각 자릿수의 합을 구해서 return 하는 solution 함수를 만들어 주세요.\\\n",
        "예를들어 N = 123이면 1 + 2 + 3 = 6을 return 하면 됩니다.\n",
        "\n",
        "*   N의 범위 : 100,000,000 이하의 자연수\n",
        "\n"
      ],
      "metadata": {
        "id": "J9c9QaRHHmnx"
      }
    },
    {
      "cell_type": "code",
      "source": [
        "def solution(N):\n",
        "    answer = 0\n",
        "    n = str(N)\n",
        "    for i in range(len(n)):\n",
        "      answer += int(n[i])   \n",
        "\n",
        "    return answer"
      ],
      "metadata": {
        "id": "P6ODL-_vHuAz"
      },
      "execution_count": null,
      "outputs": []
    },
    {
      "cell_type": "code",
      "source": [
        "solution(987)"
      ],
      "metadata": {
        "colab": {
          "base_uri": "https://localhost:8080/"
        },
        "id": "ngpCOnXrL2Wm",
        "outputId": "9f33dee3-8086-4fc1-af90-6e94b55c67fc"
      },
      "execution_count": null,
      "outputs": [
        {
          "output_type": "execute_result",
          "data": {
            "text/plain": [
              "24"
            ]
          },
          "metadata": {},
          "execution_count": 23
        }
      ]
    },
    {
      "cell_type": "code",
      "source": [],
      "metadata": {
        "id": "Yo04EFbkNTcF"
      },
      "execution_count": null,
      "outputs": []
    },
    {
      "cell_type": "markdown",
      "source": [
        "## 평균 구하기\n",
        "정수를 담고 있는 배열 arr의 평균값을 return하는 함수, solution을 완성해보세요.\n",
        "\n",
        "- arr은 길이 1 이상, 100 이하인 배열입니다.\n",
        "- arr의 원소는 -10,000 이상 10,000 이하인 정수입니다."
      ],
      "metadata": {
        "id": "WZGYuaqRNqba"
      }
    },
    {
      "cell_type": "code",
      "source": [
        "def solution(arr):\n",
        "    answer = 0\n",
        "    sum = 0\n",
        "    for i in range(len(arr)):\n",
        "      sum += arr[i]\n",
        "      answer = sum / len(arr)\n",
        "    return answer"
      ],
      "metadata": {
        "id": "yaqd7R2yNra_"
      },
      "execution_count": null,
      "outputs": []
    },
    {
      "cell_type": "code",
      "source": [
        "solution([5,5])"
      ],
      "metadata": {
        "colab": {
          "base_uri": "https://localhost:8080/"
        },
        "id": "R0fKMQg-O0dE",
        "outputId": "32277e20-c2a5-4540-c1f8-50c46c49f750"
      },
      "execution_count": null,
      "outputs": [
        {
          "output_type": "execute_result",
          "data": {
            "text/plain": [
              "5.0"
            ]
          },
          "metadata": {},
          "execution_count": 26
        }
      ]
    },
    {
      "cell_type": "code",
      "source": [],
      "metadata": {
        "id": "-FaVcU90O2md"
      },
      "execution_count": null,
      "outputs": []
    },
    {
      "cell_type": "markdown",
      "source": [
        "## 자연수 뒤집어 배열로 만들기\n",
        "자연수 n을 뒤집어 각 자리 숫자를 원소로 가지는 배열 형태로 리턴해주세요.\\\n",
        "예를들어 n이 12345이면 [5,4,3,2,1]을 리턴합니다.\n",
        "\n",
        "- n은 10,000,000,000이하인 자연수입니다."
      ],
      "metadata": {
        "id": "XBV8ffLjPKj8"
      }
    },
    {
      "cell_type": "code",
      "source": [
        "def solution(n):\n",
        "    answer = []\n",
        "    m = str(n)\n",
        "    for i in range(len(m)-1, -1, -1):\n",
        "      answer.append(int(m[i]))\n",
        "\n",
        "    return answer"
      ],
      "metadata": {
        "id": "DNGPiLQJPOtX"
      },
      "execution_count": null,
      "outputs": []
    },
    {
      "cell_type": "code",
      "source": [
        "solution(12345)"
      ],
      "metadata": {
        "colab": {
          "base_uri": "https://localhost:8080/"
        },
        "id": "N00IX_TmRfuB",
        "outputId": "a1dff209-18a1-4b5c-9aa4-b7e9846eb56a"
      },
      "execution_count": null,
      "outputs": [
        {
          "output_type": "execute_result",
          "data": {
            "text/plain": [
              "[5, 4, 3, 2, 1]"
            ]
          },
          "metadata": {},
          "execution_count": 47
        }
      ]
    },
    {
      "cell_type": "code",
      "source": [],
      "metadata": {
        "id": "dJt-ooG-Sp7H"
      },
      "execution_count": null,
      "outputs": []
    },
    {
      "cell_type": "markdown",
      "source": [
        "## x만큼 간격이 있는 n개의 숫자\n",
        "함수 solution은 정수 x와 자연수 n을 입력 받아, x부터 시작해 x씩 증가하는 숫자를 n개 지니는 리스트를 리턴해야 합니다.\\\n",
        "다음 제한 조건을 보고, 조건을 만족하는 함수, solution을 완성해주세요.\n",
        "\n",
        "- x는 -10000000 이상, 10000000 이하인 정수입니다.\n",
        "- n은 1000 이하인 자연수입니다."
      ],
      "metadata": {
        "id": "BxRpXLyBTL1f"
      }
    },
    {
      "cell_type": "code",
      "source": [
        "def solution(x, n):\n",
        "    answer = []\n",
        "    y = 0\n",
        "    for _ in range(n):\n",
        "      y += x\n",
        "      answer.append(y)\n",
        "    return answer"
      ],
      "metadata": {
        "id": "nDHnOx7yTTc2"
      },
      "execution_count": null,
      "outputs": []
    },
    {
      "cell_type": "code",
      "source": [
        "solution(-4, 2)"
      ],
      "metadata": {
        "colab": {
          "base_uri": "https://localhost:8080/"
        },
        "id": "p26jhtfMWG6H",
        "outputId": "54306296-ca91-42c7-c494-31c29da614f8"
      },
      "execution_count": null,
      "outputs": [
        {
          "output_type": "execute_result",
          "data": {
            "text/plain": [
              "[-4, -8]"
            ]
          },
          "metadata": {},
          "execution_count": 54
        }
      ]
    },
    {
      "cell_type": "code",
      "source": [],
      "metadata": {
        "id": "QNcL16y5WIip"
      },
      "execution_count": null,
      "outputs": []
    },
    {
      "cell_type": "markdown",
      "source": [
        "## 문자열 내 p와 y의 개수\n",
        "대문자와 소문자가 섞여있는 문자열 s가 주어집니다.\\\n",
        "s에 'p'의 개수와 'y'의 개수를 비교해 같으면 True, 다르면 False를 return 하는 solution를 완성하세요.\\\n",
        "'p', 'y' 모두 하나도 없는 경우는 항상 True를 리턴합니다.\\\n",
        "단, 개수를 비교할 때 대문자와 소문자는 구별하지 않습니다.\n",
        "\n",
        "예를 들어 s가 \"pPoooyY\"면 true를 return하고 \"Pyy\"라면 false를 return합니다.\n",
        "\n",
        "- 문자열 s의 길이 : 50 이하의 자연수\n",
        "- 문자열 s는 알파벳으로만 이루어져 있습니다."
      ],
      "metadata": {
        "id": "rNX1N_4iW6Gc"
      }
    },
    {
      "cell_type": "code",
      "source": [
        "def solution(s):\n",
        "  answer = True\n",
        "  s = s.lower()\n",
        "  if s.count('p') == s.count('y'):\n",
        "    answer = True\n",
        "  else:\n",
        "    answer = False\n",
        "  \n",
        "  return answer"
      ],
      "metadata": {
        "id": "yxepN4xzXIOB"
      },
      "execution_count": null,
      "outputs": []
    },
    {
      "cell_type": "code",
      "source": [
        "solution(\"pPoooyY\")"
      ],
      "metadata": {
        "colab": {
          "base_uri": "https://localhost:8080/"
        },
        "id": "TbW8xBY0-gZx",
        "outputId": "5e92957b-f595-4d99-802d-22bfa8044d74"
      },
      "execution_count": null,
      "outputs": [
        {
          "output_type": "execute_result",
          "data": {
            "text/plain": [
              "True"
            ]
          },
          "metadata": {},
          "execution_count": 65
        }
      ]
    },
    {
      "cell_type": "code",
      "source": [],
      "metadata": {
        "id": "Gvr7-FbRCK-l"
      },
      "execution_count": null,
      "outputs": []
    },
    {
      "cell_type": "markdown",
      "source": [
        "## 정수 제곱근 판별\n",
        "임의의 양의 정수 n에 대해, n이 어떤 양의 정수 x의 제곱인지 아닌지 판단하려 합니다.\\\n",
        "n이 양의 정수 x의 제곱이라면 x+1의 제곱을 리턴하고, n이 양의 정수 x의 제곱이 아니라면 -1을 리턴하는 함수를 완성하세요.\n",
        "\n",
        "- n은 1이상, 50000000000000 이하인 양의 정수입니다."
      ],
      "metadata": {
        "id": "FfDxAKbgE-HW"
      }
    },
    {
      "cell_type": "code",
      "source": [
        "def solution(n):\n",
        "  answer = 0\n",
        "  x = np.sqrt(n)\n",
        "  if n == int(x)**2:\n",
        "    answer = (int(x)+1)**2\n",
        "  else:\n",
        "    answer = -1\n",
        "\n",
        "  return answer"
      ],
      "metadata": {
        "id": "z-kx11eZFDmV"
      },
      "execution_count": null,
      "outputs": []
    },
    {
      "cell_type": "code",
      "source": [
        "solution(121)"
      ],
      "metadata": {
        "colab": {
          "base_uri": "https://localhost:8080/"
        },
        "id": "pNrn6twqGccS",
        "outputId": "aa92c88f-0959-42b4-84cc-f5a79124379e"
      },
      "execution_count": null,
      "outputs": [
        {
          "output_type": "execute_result",
          "data": {
            "text/plain": [
              "144"
            ]
          },
          "metadata": {},
          "execution_count": 79
        }
      ]
    },
    {
      "cell_type": "code",
      "source": [
        "x = np.sqrt(121)\n",
        "print(x)\n",
        "int(x)*2"
      ],
      "metadata": {
        "colab": {
          "base_uri": "https://localhost:8080/"
        },
        "id": "auMY7dq-Gd-j",
        "outputId": "258e1866-b2f5-4c12-e15a-09657afe9ac8"
      },
      "execution_count": null,
      "outputs": [
        {
          "output_type": "stream",
          "name": "stdout",
          "text": [
            "11.0\n"
          ]
        },
        {
          "output_type": "execute_result",
          "data": {
            "text/plain": [
              "22"
            ]
          },
          "metadata": {},
          "execution_count": 76
        }
      ]
    },
    {
      "cell_type": "code",
      "source": [],
      "metadata": {
        "id": "I0sv83LDJBhX"
      },
      "execution_count": null,
      "outputs": []
    },
    {
      "cell_type": "markdown",
      "source": [
        "## 문자열을 정수로 바꾸기\n",
        "문자열 s를 숫자로 변환한 결과를 반환하는 함수, solution을 완성하세요.\n",
        "\n",
        "- s의 길이는 1 이상 5이하입니다.\n",
        "- s의 맨앞에는 부호(+, -)가 올 수 있습니다.\n",
        "- s는 부호와 숫자로만 이루어져있습니다.\n",
        "- s는 \"0\"으로 시작하지 않습니다."
      ],
      "metadata": {
        "id": "ess1HDneJ2lD"
      }
    },
    {
      "cell_type": "code",
      "source": [
        "def solution(s):\n",
        "  answer = int(S)\n",
        "  return answer"
      ],
      "metadata": {
        "id": "TwgpPAGgJ9MW"
      },
      "execution_count": null,
      "outputs": []
    },
    {
      "cell_type": "code",
      "source": [
        "int('-1234')"
      ],
      "metadata": {
        "colab": {
          "base_uri": "https://localhost:8080/"
        },
        "id": "ZdwEyh5fOd8R",
        "outputId": "33d703d6-78bf-4a20-b4e0-240fb5bb6409"
      },
      "execution_count": null,
      "outputs": [
        {
          "output_type": "execute_result",
          "data": {
            "text/plain": [
              "-1234"
            ]
          },
          "metadata": {},
          "execution_count": 80
        }
      ]
    },
    {
      "cell_type": "code",
      "source": [],
      "metadata": {
        "id": "ijba879EOf2r"
      },
      "execution_count": null,
      "outputs": []
    },
    {
      "cell_type": "markdown",
      "source": [
        "## 정수 내림차순으로 배치하기\n",
        "함수 solution은 정수 n을 매개변수로 입력받습니다.\\\n",
        "n의 각 자릿수를 큰것부터 작은 순으로 정렬한 새로운 정수를 리턴해주세요.\\\n",
        "예를들어 n이 118372면 873211을 리턴하면 됩니다.\n",
        "\n",
        "- n은 1이상 8000000000 이하인 자연수입니다."
      ],
      "metadata": {
        "id": "cn1yXN8aQciD"
      }
    },
    {
      "cell_type": "code",
      "source": [
        "def solution(n):\n",
        "    answer = 0\n",
        "    lst = list(str(n))\n",
        "    lst.sort(reverse=True)\n",
        "    answer = int(\"\".join(lst))\n",
        "\n",
        "    return answer"
      ],
      "metadata": {
        "id": "uDdl3x5nQiy6"
      },
      "execution_count": null,
      "outputs": []
    },
    {
      "cell_type": "code",
      "source": [
        "solution(118372)"
      ],
      "metadata": {
        "colab": {
          "base_uri": "https://localhost:8080/"
        },
        "id": "8dmlLqHy3p8R",
        "outputId": "f32fac79-519e-450c-c485-89709345f65d"
      },
      "execution_count": null,
      "outputs": [
        {
          "output_type": "execute_result",
          "data": {
            "text/plain": [
              "873211"
            ]
          },
          "metadata": {},
          "execution_count": 94
        }
      ]
    },
    {
      "cell_type": "code",
      "source": [],
      "metadata": {
        "id": "YV9UykRI8ByF"
      },
      "execution_count": null,
      "outputs": []
    },
    {
      "cell_type": "markdown",
      "source": [
        "# 230326"
      ],
      "metadata": {
        "id": "c19xojFT5sJN"
      }
    },
    {
      "cell_type": "markdown",
      "source": [
        "## 나머지가 1이 되는 수 찾기\n",
        "자연수 n이 매개변수로 주어집니다.\\\n",
        "n을 x로 나눈 나머지가 1이 되도록 하는 가장 작은 자연수 x를 return 하도록 solution 함수를 완성해주세요.\\\n",
        "답이 항상 존재함은 증명될 수 있습니다.\n",
        "\n",
        "- 3 ≤ n ≤ 1,000,000"
      ],
      "metadata": {
        "id": "TWCw3WMB5w9a"
      }
    },
    {
      "cell_type": "code",
      "source": [
        "def solution(n):\n",
        "  answer = 2\n",
        "  \n",
        "  while n % answer != 1:\n",
        "    answer += 1\n",
        " \n",
        "  return answer"
      ],
      "metadata": {
        "id": "wyJk6NfO5uFw"
      },
      "execution_count": null,
      "outputs": []
    },
    {
      "cell_type": "code",
      "source": [
        "print(solution(10))\n",
        "print(solution(12))"
      ],
      "metadata": {
        "colab": {
          "base_uri": "https://localhost:8080/"
        },
        "id": "Le2divlgoLoQ",
        "outputId": "e7472a36-c554-4477-8857-7f286ea8f9a1"
      },
      "execution_count": null,
      "outputs": [
        {
          "output_type": "stream",
          "name": "stdout",
          "text": [
            "3\n",
            "11\n"
          ]
        }
      ]
    },
    {
      "cell_type": "code",
      "source": [],
      "metadata": {
        "id": "XrkGXQNDoVlV"
      },
      "execution_count": null,
      "outputs": []
    },
    {
      "cell_type": "markdown",
      "source": [
        "## 하샤드 수\n",
        "양의 정수 x가 하샤드 수이려면 x의 자릿수의 합으로 x가 나누어져야 합니다.\\\n",
        "예를 들어 18의 자릿수 합은 1+8=9이고, 18은 9로 나누어 떨어지므로 18은 하샤드 수입니다.\\\n",
        "자연수 x를 입력받아 x가 하샤드 수인지 아닌지 검사하는 함수, solution을 완성해주세요.\n",
        "\n",
        "- x는 1 이상, 10000 이하인 정수입니다."
      ],
      "metadata": {
        "id": "UfdYZp9moqUv"
      }
    },
    {
      "cell_type": "code",
      "source": [
        "def solution(x):\n",
        "  answer = True\n",
        "  y = list(str(x))\n",
        "  n = 0\n",
        "\n",
        "  for i in range(len(y)):\n",
        "    n += int(y[i])\n",
        "\n",
        "  if x % n != 0:\n",
        "    answer = False\n",
        "\n",
        "  return answer"
      ],
      "metadata": {
        "id": "mj4vGhdmpOkk"
      },
      "execution_count": null,
      "outputs": []
    },
    {
      "cell_type": "code",
      "source": [
        "print(solution(10))\n",
        "print(solution(12))\n",
        "print(solution(11))\n",
        "print(solution(13))"
      ],
      "metadata": {
        "colab": {
          "base_uri": "https://localhost:8080/"
        },
        "id": "nYXUaOtbxiLC",
        "outputId": "f0910aaf-ffde-4a2d-c885-b8dd7d0aac39"
      },
      "execution_count": null,
      "outputs": [
        {
          "output_type": "stream",
          "name": "stdout",
          "text": [
            "True\n",
            "True\n",
            "False\n",
            "False\n"
          ]
        }
      ]
    },
    {
      "cell_type": "code",
      "source": [
        "a = list(str(18))\n",
        "# print(a[0])\n",
        "# print(a[1])\n",
        "# print(int(a[0]) + int(a[1]))\n",
        "\n",
        "s = 0\n",
        "for i in range(len(a)):\n",
        "  s += int(a[i])\n",
        "\n",
        "print(s)"
      ],
      "metadata": {
        "colab": {
          "base_uri": "https://localhost:8080/"
        },
        "id": "Ah2c-XfQwWKQ",
        "outputId": "a9aa29d8-1440-4c01-c5d6-f0be3c6a1797"
      },
      "execution_count": null,
      "outputs": [
        {
          "output_type": "stream",
          "name": "stdout",
          "text": [
            "9\n"
          ]
        }
      ]
    },
    {
      "cell_type": "code",
      "source": [],
      "metadata": {
        "id": "3Af8FdqEwYKf"
      },
      "execution_count": null,
      "outputs": []
    },
    {
      "cell_type": "markdown",
      "source": [
        "## 두 정수 사이의 합\n",
        "\n",
        "두 정수 a, b가 주어졌을 때 a와 b 사이에 속한 모든 정수의 합을 리턴하는 함수, solution을 완성하세요.\\\n",
        "예를 들어 a = 3, b = 5인 경우, 3 + 4 + 5 = 12이므로 12를 리턴합니다.\n",
        "\n",
        "- a와 b가 같은 경우는 둘 중 아무 수나 리턴하세요.\n",
        "- a와 b는 -10,000,000 이상 10,000,000 이하인 정수입니다.\n",
        "- a와 b의 대소관계는 정해져있지 않습니다."
      ],
      "metadata": {
        "id": "q_xxBvTOyAtj"
      }
    },
    {
      "cell_type": "code",
      "source": [
        "def solution(a, b):\n",
        "  answer = 0\n",
        "\n",
        "  if b > a:\n",
        "    for i in range(a, b+1):\n",
        "      answer += i\n",
        "\n",
        "  elif a == b:\n",
        "    answer = a\n",
        "    \n",
        "  elif a > b:\n",
        "    for i in range(b, a+1):\n",
        "      answer += i\n",
        "\n",
        "  return answer"
      ],
      "metadata": {
        "id": "RtoIQQDvyK00"
      },
      "execution_count": null,
      "outputs": []
    },
    {
      "cell_type": "code",
      "source": [
        "print(solution(3, 5))\n",
        "print(solution(3, 3))\n",
        "print(solution(5, 3))"
      ],
      "metadata": {
        "colab": {
          "base_uri": "https://localhost:8080/"
        },
        "id": "ScB6JzRq5lFj",
        "outputId": "07f65f8b-106b-4983-ae49-e2b942bbcab6"
      },
      "execution_count": null,
      "outputs": [
        {
          "output_type": "stream",
          "name": "stdout",
          "text": [
            "12\n",
            "3\n",
            "12\n"
          ]
        }
      ]
    },
    {
      "cell_type": "code",
      "source": [],
      "metadata": {
        "id": "xsiDvZ146LZy"
      },
      "execution_count": null,
      "outputs": []
    },
    {
      "cell_type": "markdown",
      "source": [
        "## 콜라츠 추측\n",
        "1937년 Collatz란 사람에 의해 제기된 이 추측은, 주어진 수가 1이 될 때까지 다음 작업을 반복하면, 모든 수를 1로 만들 수 있다는 추측입니다. 작업은 다음과 같습니다.\n",
        "\n",
        "```\n",
        "1-1. 입력된 수가 짝수라면 2로 나눕니다. \n",
        "1-2. 입력된 수가 홀수라면 3을 곱하고 1을 더합니다. \n",
        "2. 결과로 나온 수에 같은 작업을 1이 될 때까지 반복합니다.\n",
        "```\n",
        "\n",
        "예를 들어, 주어진 수가 6이라면 6 → 3 → 10 → 5 → 16 → 8 → 4 → 2 → 1 이 되어 총 8번 만에 1이 됩니다.\\\n",
        "위 작업을 몇 번이나 반복해야 하는지 반환하는 함수, solution을 완성해 주세요.\\\n",
        "단, 주어진 수가 1인 경우에는 0을, 작업을 500번 반복할 때까지 1이 되지 않는다면 –1을 반환해 주세요.\n",
        "\n",
        "- 입력된 수, num은 1 이상 8,000,000 미만인 정수입니다.\n"
      ],
      "metadata": {
        "id": "W3q0UhqJ62OS"
      }
    },
    {
      "cell_type": "code",
      "source": [
        "def solution(num):\n",
        "  cnt = 0\n",
        "  \n",
        "  while num != 1:\n",
        "    cnt += 1\n",
        "    if num == 1:\n",
        "      cnt = 0\n",
        "    elif num % 2 == 0:\n",
        "      num = num // 2\n",
        "    else:\n",
        "      num = (num*3) + 1\n",
        "    \n",
        "  if cnt > 500:\n",
        "    cnt = -1\n",
        "\n",
        "  return cnt"
      ],
      "metadata": {
        "id": "Ew0x1fnf7vQh"
      },
      "execution_count": null,
      "outputs": []
    },
    {
      "cell_type": "code",
      "source": [
        "print(solution(6))\n",
        "print(solution(16))\n",
        "print(solution(626331))"
      ],
      "metadata": {
        "colab": {
          "base_uri": "https://localhost:8080/"
        },
        "id": "YyIOvhGrE_Qx",
        "outputId": "da9c72f8-e3d4-48f1-90df-b4e084581f92"
      },
      "execution_count": null,
      "outputs": [
        {
          "output_type": "stream",
          "name": "stdout",
          "text": [
            "8\n",
            "4\n",
            "-1\n"
          ]
        }
      ]
    },
    {
      "cell_type": "code",
      "source": [],
      "metadata": {
        "id": "vyp5NUD6FFZ7"
      },
      "execution_count": null,
      "outputs": []
    },
    {
      "cell_type": "markdown",
      "source": [
        "## 서울에서 김서방 찾기\n",
        "String형 배열 seoul의 element중 \"Kim\"의 위치 x를 찾아, \"김서방은 x에 있다\"는\\\n",
        "String을 반환하는 함수, solution을 완성하세요.\\\n",
        "seoul에 \"Kim\"은 오직 한 번만 나타나며 잘못된 값이 입력되는 경우는 없습니다.\n",
        "\n",
        "- seoul은 길이 1 이상, 1000 이하인 배열입니다.\n",
        "- seoul의 원소는 길이 1 이상, 20 이하인 문자열입니다.\n",
        "- \"Kim\"은 반드시 seoul 안에 포함되어 있습니다."
      ],
      "metadata": {
        "id": "s0lKn9d6NgA3"
      }
    },
    {
      "cell_type": "code",
      "source": [
        "def solution(seoul):\n",
        "  answer = ''\n",
        "\n",
        "  for x in range(len(seoul)):\n",
        "    if seoul[x] == \"Kim\":\n",
        "      answer = f'김서방은 {x}에 있다'\n",
        "    else:\n",
        "      continue\n",
        "      \n",
        "  return answer"
      ],
      "metadata": {
        "id": "8VXpT-3fNlv0"
      },
      "execution_count": null,
      "outputs": []
    },
    {
      "cell_type": "code",
      "source": [
        "solution([\"Jane\", \"Kim\"])"
      ],
      "metadata": {
        "colab": {
          "base_uri": "https://localhost:8080/",
          "height": 35
        },
        "id": "CVpItgwxOWyQ",
        "outputId": "8a09e2a5-3ff3-4346-812a-7365ec6717ad"
      },
      "execution_count": null,
      "outputs": [
        {
          "output_type": "execute_result",
          "data": {
            "text/plain": [
              "'김서방은 1에 있다'"
            ],
            "application/vnd.google.colaboratory.intrinsic+json": {
              "type": "string"
            }
          },
          "metadata": {},
          "execution_count": 28
        }
      ]
    },
    {
      "cell_type": "code",
      "source": [],
      "metadata": {
        "id": "duh4PIKfOb-r"
      },
      "execution_count": null,
      "outputs": []
    },
    {
      "cell_type": "markdown",
      "source": [
        "## 나누어 떨어지는 숫자 배열\n",
        "array의 각 element 중 divisor로 나누어 떨어지는 값을 오름차순으로 정렬한 배열을 반환하는 함수, solution을 작성해주세요.\\\n",
        "divisor로 나누어 떨어지는 element가 하나도 없다면 배열에 -1을 담아 반환하세요.\n",
        "\n",
        "- arr은 자연수를 담은 배열입니다.\n",
        "- 정수 i, j에 대해 i ≠ j 이면 arr[i] ≠ arr[j] 입니다.\n",
        "- divisor는 자연수입니다.\n",
        "- array는 길이 1 이상인 배열입니다."
      ],
      "metadata": {
        "id": "G8x68Nt1Oul3"
      }
    },
    {
      "cell_type": "code",
      "source": [
        "def solution(arr, divisor):\n",
        "  answer = []\n",
        "\n",
        "  for i in range(len(arr)):\n",
        "    if arr[i] % divisor == 0:\n",
        "      answer.append(arr[i])\n",
        "    else:\n",
        "      pass\n",
        "\n",
        "  if len(answer) == 0:\n",
        "    answer.append(-1)\n",
        "\n",
        "  return sorted(answer)"
      ],
      "metadata": {
        "id": "Pi1drT5yPB-B"
      },
      "execution_count": null,
      "outputs": []
    },
    {
      "cell_type": "code",
      "source": [
        "print(solution([5, 9, 7, 10], 5))\n",
        "print(solution([2, 36, 1, 3], 1))\n",
        "print(solution([3, 2, 6], 10))"
      ],
      "metadata": {
        "colab": {
          "base_uri": "https://localhost:8080/"
        },
        "id": "M0BUtjFPQp58",
        "outputId": "ac817a4c-4f98-4d54-9e7e-c0d640888661"
      },
      "execution_count": null,
      "outputs": [
        {
          "output_type": "stream",
          "name": "stdout",
          "text": [
            "[5, 10]\n",
            "[1, 2, 3, 36]\n",
            "[-1]\n"
          ]
        }
      ]
    },
    {
      "cell_type": "code",
      "source": [],
      "metadata": {
        "id": "ZGIdKgXqQ4ra"
      },
      "execution_count": null,
      "outputs": []
    },
    {
      "cell_type": "markdown",
      "source": [
        "## 핸드폰 번호 가리기\n",
        "프로그래머스 모바일은 개인정보 보호를 위해 고지서를 보낼 때 고객들의 전화번호의 일부를 가립니다.\\\n",
        "전화번호가 문자열 phone_number로 주어졌을 때, 전화번호의 뒷 4자리를 제외한 나머지 숫자를 전부 *으로 가린 문자열을 리턴하는 함수, solution을 완성해주세요.\n",
        "\n",
        "- phone_number는 길이 4 이상, 20이하인 문자열입니다."
      ],
      "metadata": {
        "id": "mAc0VOI-R2Nn"
      }
    },
    {
      "cell_type": "code",
      "source": [
        "def solution(phone_number):\n",
        "  answer = ''\n",
        "\n",
        "  lng = len(phone_number)\n",
        "  answer = '*' * (lng-4)\n",
        "  answer += phone_number[-4:]\n",
        "\n",
        "  return answer"
      ],
      "metadata": {
        "id": "dI7BdpV3R68t"
      },
      "execution_count": null,
      "outputs": []
    },
    {
      "cell_type": "code",
      "source": [
        "print(solution(\"01033334444\"))\n",
        "print(solution(\"027778888\"))"
      ],
      "metadata": {
        "colab": {
          "base_uri": "https://localhost:8080/"
        },
        "id": "GAtAGRswTHX9",
        "outputId": "57419efa-cef3-40e0-abc0-ba1b3a8e7a3b"
      },
      "execution_count": null,
      "outputs": [
        {
          "output_type": "stream",
          "name": "stdout",
          "text": [
            "*******4444\n",
            "*****8888\n"
          ]
        }
      ]
    },
    {
      "cell_type": "code",
      "source": [],
      "metadata": {
        "id": "dtkhfeUzTK71"
      },
      "execution_count": null,
      "outputs": []
    },
    {
      "cell_type": "markdown",
      "source": [
        "## 음양 더하기\n",
        "어떤 정수들이 있습니다.\\\n",
        "이 정수들의 절댓값을 차례대로 담은 정수 배열 absolutes와\\\n",
        " 이 정수들의 부호를 차례대로 담은 불리언 배열 signs가 매개변수로 주어집니다.\\\n",
        "실제 정수들의 합을 구하여 return 하도록 solution 함수를 완성해주세요.\n",
        "\n",
        "- absolutes의 길이는 1 이상 1,000 이하입니다.\n",
        "  - absolutes의 모든 수는 각각 1 이상 1,000 이하입니다.\n",
        "- signs의 길이는 absolutes의 길이와 같습니다.\n",
        "  - signs[i] 가 참이면 absolutes[i] 의 실제 정수가 양수임을, 그렇지 않으면 음수임을 의미합니다."
      ],
      "metadata": {
        "id": "g90Yma7nYiEp"
      }
    },
    {
      "cell_type": "code",
      "source": [
        "def solution(absolutes, signs):\n",
        "    answer = 0\n",
        "    \n",
        "    for i in range(len(absolutes)):\n",
        "      if signs[i] == False:\n",
        "        absolutes[i] *= -1\n",
        "      else:\n",
        "        pass\n",
        "    \n",
        "    answer = sum(absolutes)\n",
        "\n",
        "    return answer"
      ],
      "metadata": {
        "id": "O1WfLVo2YsVA"
      },
      "execution_count": null,
      "outputs": []
    },
    {
      "cell_type": "code",
      "source": [
        "print(solution([4, 7, 12], [True, False, True]))\n",
        "print(solution([1, 2, 3], [False, False, True]))"
      ],
      "metadata": {
        "colab": {
          "base_uri": "https://localhost:8080/"
        },
        "id": "RAHzn8Yce0IP",
        "outputId": "5c36050b-88ab-461f-c9f2-44cc9a8b720b"
      },
      "execution_count": null,
      "outputs": [
        {
          "output_type": "stream",
          "name": "stdout",
          "text": [
            "9\n",
            "0\n"
          ]
        }
      ]
    },
    {
      "cell_type": "code",
      "source": [],
      "metadata": {
        "id": "Stm_xijpe645"
      },
      "execution_count": null,
      "outputs": []
    },
    {
      "cell_type": "markdown",
      "source": [
        "## 제일 작은 수 제거하기\n",
        "정수를 저장한 배열, arr 에서 가장 작은 수를 제거한 배열을 리턴하는 함수, solution을 완성해주세요.\\\n",
        "단, 리턴하려는 배열이 빈 배열인 경우엔 배열에 -1을 채워 리턴하세요.\\\n",
        "예를들어 arr이 [4,3,2,1]인 경우는 [4,3,2]를 리턴 하고, [10]면 [-1]을 리턴 합니다.\n",
        "\n",
        "- arr은 길이 1 이상인 배열입니다.\n",
        "- 인덱스 i, j에 대해 i ≠ j이면 arr[i] ≠ arr[j] 입니다."
      ],
      "metadata": {
        "id": "N4KVn_WXfVzR"
      }
    },
    {
      "cell_type": "code",
      "source": [
        "def solution(arr):\n",
        "  answer = []\n",
        "\n",
        "  if len(arr) != 1:\n",
        "    answer = sorted(arr)[-1:]\n",
        "  else:\n",
        "    answer = [-1]\n",
        "\n",
        "  return answer"
      ],
      "metadata": {
        "id": "264fWN9gfg9x"
      },
      "execution_count": null,
      "outputs": []
    },
    {
      "cell_type": "code",
      "source": [
        "print(solution([4,3,2,1]))\n",
        "print(solution([10]))"
      ],
      "metadata": {
        "colab": {
          "base_uri": "https://localhost:8080/"
        },
        "id": "TZacT_GLgQaU",
        "outputId": "c95c9849-4aa3-4d19-c7dc-045e37d78ea5"
      },
      "execution_count": null,
      "outputs": [
        {
          "output_type": "stream",
          "name": "stdout",
          "text": [
            "[2, 3, 4]\n",
            "[-1]\n"
          ]
        }
      ]
    },
    {
      "cell_type": "code",
      "source": [
        "def solution(arr):\n",
        "\n",
        "  if len(arr) != 1:\n",
        "    arr.remove(min(arr))\n",
        "  else:\n",
        "    arr = [-1]\n",
        "\n",
        "  return arr"
      ],
      "metadata": {
        "id": "hOZXk4Q3GPax"
      },
      "execution_count": null,
      "outputs": []
    },
    {
      "cell_type": "code",
      "source": [
        "print(solution([4,3,2,1]))\n",
        "print(solution([10]))"
      ],
      "metadata": {
        "colab": {
          "base_uri": "https://localhost:8080/"
        },
        "id": "FicZnBhuIy90",
        "outputId": "b5163e20-0c88-4d53-f56a-3d22315e096d"
      },
      "execution_count": null,
      "outputs": [
        {
          "output_type": "stream",
          "name": "stdout",
          "text": [
            "[4, 3, 2]\n",
            "[-1]\n"
          ]
        }
      ]
    },
    {
      "cell_type": "code",
      "source": [],
      "metadata": {
        "id": "S5eZSdh1I0KU"
      },
      "execution_count": null,
      "outputs": []
    },
    {
      "cell_type": "markdown",
      "source": [
        "## 없는 숫자 더하기\n",
        "0부터 9까지의 숫자 중 일부가 들어있는 정수 배열 numbers가 매개변수로 주어집니다.\\\n",
        "numbers에서 찾을 수 없는 0부터 9까지의 숫자를 모두 찾아 더한 수를 return 하도록 solution 함수를 완성해주세요.\n",
        "\n",
        "- 1 ≤ numbers의 길이 ≤ 9\n",
        "- 0 ≤ numbers의 모든 원소 ≤ 9\n",
        "- numbers의 모든 원소는 서로 다릅니다."
      ],
      "metadata": {
        "id": "CcP9GxVEJZLz"
      }
    },
    {
      "cell_type": "code",
      "source": [
        "def solution(numbers):\n",
        "  s = 0\n",
        "  answer = 0\n",
        "\n",
        "  for i in range(10):\n",
        "    s += i\n",
        "  \n",
        "  answer = s - sum(numbers)\n",
        "\n",
        "  return answer"
      ],
      "metadata": {
        "id": "biJV1ymSKcKt"
      },
      "execution_count": null,
      "outputs": []
    },
    {
      "cell_type": "code",
      "source": [
        "print(solution([1,2,3,4,6,7,8,0]))\n",
        "print(solution([5,8,4,0,6,7,9]))\n"
      ],
      "metadata": {
        "colab": {
          "base_uri": "https://localhost:8080/"
        },
        "id": "DQAhS1HLMTC-",
        "outputId": "89c79355-bea8-466b-b6bf-9da174f78f12"
      },
      "execution_count": null,
      "outputs": [
        {
          "output_type": "stream",
          "name": "stdout",
          "text": [
            "14\n",
            "6\n"
          ]
        }
      ]
    },
    {
      "cell_type": "code",
      "source": [],
      "metadata": {
        "id": "lagLWZXTMTUP"
      },
      "execution_count": null,
      "outputs": []
    },
    {
      "cell_type": "markdown",
      "source": [
        "## 가운데 글자 가져오기\n",
        "단어 s의 가운데 글자를 반환하는 함수, solution을 만들어 보세요.\\\n",
        "단어의 길이가 짝수라면 가운데 두글자를 반환하면 됩니다.\n",
        "\n",
        "- s는 길이가 1 이상, 100이하인 스트링입니다."
      ],
      "metadata": {
        "id": "2cOyD0uWNUdc"
      }
    },
    {
      "cell_type": "code",
      "source": [
        "def solution(s):\n",
        "  answer = ''\n",
        "  a = len(s) // 2\n",
        "\n",
        "  if len(s) % 2 == 0:\n",
        "    answer = s[a-1:a+1]\n",
        "  else:\n",
        "    answer = s[a]\n",
        "\n",
        "  return answer"
      ],
      "metadata": {
        "id": "CHXoru3rNbaz"
      },
      "execution_count": null,
      "outputs": []
    },
    {
      "cell_type": "code",
      "source": [
        "print(solution(\"abcde\"))\n",
        "print(solution(\"qwer\"))"
      ],
      "metadata": {
        "colab": {
          "base_uri": "https://localhost:8080/"
        },
        "id": "7RCdc4E0N-1o",
        "outputId": "6bd230b1-930f-48cb-9997-1555bd97b328"
      },
      "execution_count": null,
      "outputs": [
        {
          "output_type": "stream",
          "name": "stdout",
          "text": [
            "c\n",
            "we\n"
          ]
        }
      ]
    },
    {
      "cell_type": "code",
      "source": [],
      "metadata": {
        "id": "PrhDQRR6OBtq"
      },
      "execution_count": null,
      "outputs": []
    },
    {
      "cell_type": "markdown",
      "source": [
        "## 수박수박수박수박수박수?\n",
        "길이가 n이고, \"수박수박수박수....\"와 같은 패턴을 유지하는 문자열을 리턴하는 함수, solution을 완성하세요.\\\n",
        "예를들어 n이 4이면 \"수박수박\"을 리턴하고 3이라면 \"수박수\"를 리턴하면 됩니다.\n",
        "\n",
        "- n은 길이 10,000이하인 자연수입니다."
      ],
      "metadata": {
        "id": "jgp8fwdNPgkv"
      }
    },
    {
      "cell_type": "code",
      "source": [
        "def solution(n):\n",
        "  s = '수박' * 10000\n",
        "  answer = s[:n]\n",
        "\n",
        "  return answer"
      ],
      "metadata": {
        "id": "mhNlZ-oLPjZK"
      },
      "execution_count": null,
      "outputs": []
    },
    {
      "cell_type": "code",
      "source": [
        "print(solution(3))\n",
        "print(solution(4))"
      ],
      "metadata": {
        "colab": {
          "base_uri": "https://localhost:8080/"
        },
        "id": "AfXQerU9QMvj",
        "outputId": "653b8e6d-62eb-4b41-f05f-f8cd63918bb6"
      },
      "execution_count": null,
      "outputs": [
        {
          "output_type": "stream",
          "name": "stdout",
          "text": [
            "수박수\n",
            "수박수박\n"
          ]
        }
      ]
    },
    {
      "cell_type": "code",
      "source": [],
      "metadata": {
        "id": "0Gk1IFEEQW9e"
      },
      "execution_count": null,
      "outputs": []
    },
    {
      "cell_type": "markdown",
      "source": [
        "## 내적\n",
        "길이가 같은 두 1차원 정수 배열 a, b가 매개변수로 주어집니다.\\\n",
        "a와 b의 내적을 return 하도록 solution 함수를 완성해주세요.\n",
        "\n",
        "이때, a와 b의 내적은 a[0]*b[0] + a[1]*b[1] + ... + a[n-1]*b[n-1] 입니다. (n은 a, b의 길이)\n",
        "\n",
        "- a, b의 길이는 1 이상 1,000 이하입니다.\n",
        "- a, b의 모든 수는 -1,000 이상 1,000 이하입니다.\n"
      ],
      "metadata": {
        "id": "HtrU27h5QuLG"
      }
    },
    {
      "cell_type": "code",
      "source": [
        "def solution(a, b):\n",
        "  answer = 0\n",
        "\n",
        "  for i in range(len(a)):\n",
        "    answer += a[i] * b[i]\n",
        "\n",
        "  return answer"
      ],
      "metadata": {
        "id": "BHH4O2-RQ05j"
      },
      "execution_count": null,
      "outputs": []
    },
    {
      "cell_type": "code",
      "source": [
        "print(solution([1,2,3,4], [-3,-1,0,2]))\n",
        "print(solution([-1,0,1], [1,0,-1]))"
      ],
      "metadata": {
        "colab": {
          "base_uri": "https://localhost:8080/"
        },
        "id": "hA3bIzKYR13F",
        "outputId": "a150d11b-17cc-49d6-a66c-284b6cc83726"
      },
      "execution_count": null,
      "outputs": [
        {
          "output_type": "stream",
          "name": "stdout",
          "text": [
            "3\n",
            "-2\n"
          ]
        }
      ]
    },
    {
      "cell_type": "code",
      "source": [],
      "metadata": {
        "id": "llF1QPx5SAvC"
      },
      "execution_count": null,
      "outputs": []
    },
    {
      "cell_type": "markdown",
      "source": [
        "## 문자열 내림차순으로 배치하기\n",
        "문자열 s에 나타나는 문자를 큰것부터 작은 순으로 정렬해 새로운 문자열을 리턴하는 함수, solution을 완성해주세요.\\\n",
        "s는 영문 대소문자로만 구성되어 있으며, 대문자는 소문자보다 작은 것으로 간주합니다.\n",
        "\n",
        "- str은 길이 1 이상인 문자열입니다."
      ],
      "metadata": {
        "id": "LdjBuN2cUbhr"
      }
    },
    {
      "cell_type": "code",
      "source": [
        "def solution(s):\n",
        "  answer = ''\n",
        "  lst = []\n",
        "\n",
        "  for i in range(len(s)):\n",
        "    lst = sorted(s, reverse=True)\n",
        "    answer += lst[i]\n",
        "\n",
        "  return answer"
      ],
      "metadata": {
        "id": "pQDCeMkOUhzL"
      },
      "execution_count": null,
      "outputs": []
    },
    {
      "cell_type": "code",
      "source": [
        "sorted(\"Zbcdefg\", reverse=True)"
      ],
      "metadata": {
        "colab": {
          "base_uri": "https://localhost:8080/"
        },
        "id": "P50-zYTIVC7P",
        "outputId": "044249d3-791b-4c1d-fdb5-256532a38474"
      },
      "execution_count": null,
      "outputs": [
        {
          "output_type": "execute_result",
          "data": {
            "text/plain": [
              "['g', 'f', 'e', 'd', 'c', 'b', 'Z']"
            ]
          },
          "metadata": {},
          "execution_count": 89
        }
      ]
    },
    {
      "cell_type": "code",
      "source": [
        "solution(\"Zbcdefg\")"
      ],
      "metadata": {
        "colab": {
          "base_uri": "https://localhost:8080/",
          "height": 35
        },
        "id": "jo63_TR-VGAp",
        "outputId": "55a5eb06-041e-42f7-92b3-c17fe5b18baa"
      },
      "execution_count": null,
      "outputs": [
        {
          "output_type": "execute_result",
          "data": {
            "text/plain": [
              "'gfedcbZ'"
            ],
            "application/vnd.google.colaboratory.intrinsic+json": {
              "type": "string"
            }
          },
          "metadata": {},
          "execution_count": 91
        }
      ]
    },
    {
      "cell_type": "code",
      "source": [
        "def solution(s):\n",
        "  answer = ''.join(sorted(s, reverse=True))\n",
        "\n",
        "  return answer"
      ],
      "metadata": {
        "id": "A7HVdYc-Vx6j"
      },
      "execution_count": null,
      "outputs": []
    },
    {
      "cell_type": "code",
      "source": [
        "solution(\"Zbcdefg\")"
      ],
      "metadata": {
        "colab": {
          "base_uri": "https://localhost:8080/",
          "height": 35
        },
        "id": "jMH4WBaeWVZA",
        "outputId": "4a17784a-093b-411a-8913-770c61bcec30"
      },
      "execution_count": null,
      "outputs": [
        {
          "output_type": "execute_result",
          "data": {
            "text/plain": [
              "'gfedcbZ'"
            ],
            "application/vnd.google.colaboratory.intrinsic+json": {
              "type": "string"
            }
          },
          "metadata": {},
          "execution_count": 93
        }
      ]
    },
    {
      "cell_type": "code",
      "source": [],
      "metadata": {
        "id": "XKE-vHS1WXkK"
      },
      "execution_count": null,
      "outputs": []
    },
    {
      "cell_type": "markdown",
      "source": [
        "## 약수의 개수와 덧셈\n",
        "두 정수 left와 right가 매개변수로 주어집니다.\\\n",
        "left부터 right까지의 모든 수들 중에서, 약수의 개수가 짝수인 수는 더하고,\\\n",
        "약수의 개수가 홀수인 수는 뺀 수를 return 하도록 solution 함수를 완성해주세요.\n",
        "\n",
        "- 1 ≤ left ≤ right ≤ 1,000"
      ],
      "metadata": {
        "id": "FSmMzYVyWc9D"
      }
    },
    {
      "cell_type": "code",
      "source": [
        "def solution(left, right):\n",
        "  answer = 0\n",
        "\n",
        "  for i in range(left, right+1):\n",
        "    cnt = 0\n",
        "    for j in range(1, i+1):\n",
        "      if i % j == 0:\n",
        "        cnt += 1\n",
        "\n",
        "    if cnt % 2 == 0:\n",
        "      answer += i\n",
        "    else:\n",
        "      answer -= i\n",
        "\n",
        "  return answer"
      ],
      "metadata": {
        "id": "QJ2nSZhGWjGf"
      },
      "execution_count": null,
      "outputs": []
    },
    {
      "cell_type": "code",
      "source": [
        "solution(13, 17)"
      ],
      "metadata": {
        "colab": {
          "base_uri": "https://localhost:8080/"
        },
        "id": "nul4gfxvYWHT",
        "outputId": "bfd3c98b-c6a3-4be6-8828-c6b66a6d60af"
      },
      "execution_count": null,
      "outputs": [
        {
          "output_type": "execute_result",
          "data": {
            "text/plain": [
              "43"
            ]
          },
          "metadata": {},
          "execution_count": 97
        }
      ]
    },
    {
      "cell_type": "code",
      "source": [],
      "metadata": {
        "id": "px_0ThUJYYsT"
      },
      "execution_count": null,
      "outputs": []
    },
    {
      "cell_type": "markdown",
      "source": [
        "# 230327"
      ],
      "metadata": {
        "id": "1FaiAND3Buys"
      }
    },
    {
      "cell_type": "markdown",
      "source": [
        "## 문자열 다루기 기본\n",
        "문자열 s의 길이가 4 혹은 6이고, 숫자로만 구성되어있는지 확인해주는 함수, solution을 완성하세요.\\\n",
        "예를 들어 s가 \"a234\"이면 False를 리턴하고 \"1234\"라면 True를 리턴하면 됩니다.\n",
        "\n",
        "- s는 길이 1 이상, 길이 8 이하인 문자열입니다.\n",
        "- s는 영문 알파벳 대소문자 또는 0부터 9까지 숫자로 이루어져 있습니다."
      ],
      "metadata": {
        "id": "G84NYj7UZfs2"
      }
    },
    {
      "cell_type": "code",
      "source": [
        "def solution(s):\n",
        "  answer = True\n",
        "\n",
        "  if len(s) in (4, 6) and s.isdigit() == True:\n",
        "    answer = True\n",
        "  else:\n",
        "    answer = False        \n",
        "\n",
        "  return answer"
      ],
      "metadata": {
        "id": "Up241NlHZlmD"
      },
      "execution_count": null,
      "outputs": []
    },
    {
      "cell_type": "code",
      "source": [
        "print(solution(\"a234\"))\n",
        "print(solution(\"1234\"))"
      ],
      "metadata": {
        "colab": {
          "base_uri": "https://localhost:8080/"
        },
        "id": "dUAzZie1BWIK",
        "outputId": "8a379785-9af2-4c38-92f5-af4b6e6abadf"
      },
      "execution_count": null,
      "outputs": [
        {
          "output_type": "stream",
          "name": "stdout",
          "text": [
            "False\n",
            "True\n"
          ]
        }
      ]
    },
    {
      "cell_type": "code",
      "source": [],
      "metadata": {
        "id": "gcr_jHR7Bbjd"
      },
      "execution_count": null,
      "outputs": []
    },
    {
      "cell_type": "markdown",
      "source": [
        "## 부족한 금액 계산하기\n",
        "새로 생긴 놀이기구는 인기가 매우 많아 줄이 끊이질 않습니다.\\\n",
        "이 놀이기구의 원래 이용료는 price원 인데, 놀이기구를 N 번 째 이용한다면 원래 이용료의 N배를 받기로 하였습니다.\\\n",
        "즉, 처음 이용료가 100이었다면 2번째에는 200, 3번째에는 300으로 요금이 인상됩니다.\\\n",
        "놀이기구를 count번 타게 되면 현재 자신이 가지고 있는 금액에서 얼마가 모자라는지를 return 하도록 solution 함수를 완성하세요.\\\n",
        "단, 금액이 부족하지 않으면 0을 return 하세요.\n",
        "\n",
        "- 놀이기구의 이용료 price : 1 ≤ price ≤ 2,500, price는 자연수\n",
        "- 처음 가지고 있던 금액 money : 1 ≤ money ≤ 1,000,000,000, money는 자연수\n",
        "- 놀이기구의 이용 횟수 count : 1 ≤ count ≤ 2,500, count는 자연수"
      ],
      "metadata": {
        "id": "sXjnlpR3B0lI"
      }
    },
    {
      "cell_type": "code",
      "source": [
        "def solution(price, money, count):\n",
        "  answer = -1\n",
        "  total = 0\n",
        "\n",
        "  for i in range(1, count+1):\n",
        "    total += i*price\n",
        "\n",
        "    if (money - total) > 0:\n",
        "      answer = 0\n",
        "    else:\n",
        "      answer = total - money\n",
        "\n",
        "  return answer"
      ],
      "metadata": {
        "id": "gX-qIZXMCEx9"
      },
      "execution_count": null,
      "outputs": []
    },
    {
      "cell_type": "code",
      "source": [
        "solution(3, 20, 4)"
      ],
      "metadata": {
        "colab": {
          "base_uri": "https://localhost:8080/"
        },
        "id": "l7T9FY3GENIE",
        "outputId": "9f475a5d-31b0-441f-97da-f32468123031"
      },
      "execution_count": null,
      "outputs": [
        {
          "output_type": "execute_result",
          "data": {
            "text/plain": [
              "10"
            ]
          },
          "metadata": {},
          "execution_count": 14
        }
      ]
    },
    {
      "cell_type": "code",
      "source": [],
      "metadata": {
        "id": "B8M4X7OyEP5M"
      },
      "execution_count": null,
      "outputs": []
    },
    {
      "cell_type": "markdown",
      "source": [
        "## 행렬의 덧셈\n",
        "행렬의 덧셈은 행과 열의 크기가 같은 두 행렬의 같은 행, 같은 열의 값을 서로 더한 결과가 됩니다.\\\n",
        "2개의 행렬 arr1과 arr2를 입력받아, 행렬 덧셈의 결과를 반환하는 함수, solution을 완성해주세요.\n",
        "\n",
        "- 행렬 arr1, arr2의 행과 열의 길이는 500을 넘지 않습니다."
      ],
      "metadata": {
        "id": "27FYnWHoVejP"
      }
    },
    {
      "cell_type": "code",
      "source": [
        "a = [[1,2], [2,3]]\n",
        "b = [[3,4], [5,6]]\n",
        "c = [[]]\n",
        "\n",
        "print(a[0][0] + b[0][0])\n",
        "print(a[0][1] + b[0][1])\n",
        "print(a[1][0] + b[1][0])\n",
        "print(a[1][1] + b[1][1])"
      ],
      "metadata": {
        "colab": {
          "base_uri": "https://localhost:8080/"
        },
        "id": "izFr7BSqVjIi",
        "outputId": "ccf6f0ba-d9aa-4b22-a3d7-c67963f238e8"
      },
      "execution_count": null,
      "outputs": [
        {
          "output_type": "stream",
          "name": "stdout",
          "text": [
            "4\n",
            "6\n",
            "7\n",
            "9\n"
          ]
        }
      ]
    },
    {
      "cell_type": "code",
      "source": [
        "def solution(arr1, arr2):\n",
        "  answer = []\n",
        "  \n",
        "  for i in range(len(arr1)):\n",
        "    arr_sum = []\n",
        "    for j in range(len(arr1[i])):\n",
        "      arr_sum.append(arr1[i][j] + arr2[i][j])\n",
        "    answer.append(arr_sum)\n",
        "\n",
        "  return answer"
      ],
      "metadata": {
        "id": "O_B5Z0bEbar8"
      },
      "execution_count": null,
      "outputs": []
    },
    {
      "cell_type": "code",
      "source": [
        "print(solution([[1,2],[2,3]], [[3,4],[5,6]]))\n",
        "print(solution([[1],[2]], [[3],[4]]))"
      ],
      "metadata": {
        "colab": {
          "base_uri": "https://localhost:8080/"
        },
        "id": "a9cC9B09hEd1",
        "outputId": "e2b0119f-6691-484b-b883-ed414f09e6b1"
      },
      "execution_count": null,
      "outputs": [
        {
          "output_type": "stream",
          "name": "stdout",
          "text": [
            "[[4, 6], [7, 9]]\n",
            "[[4], [6]]\n"
          ]
        }
      ]
    },
    {
      "cell_type": "code",
      "source": [],
      "metadata": {
        "id": "QqDV2TC2hSM7"
      },
      "execution_count": null,
      "outputs": []
    },
    {
      "cell_type": "markdown",
      "source": [
        "## 직사각형 별찍기\n",
        "이 문제에는 표준 입력으로 두 개의 정수 n과 m이 주어집니다.\\\n",
        "별(*) 문자를 이용해 가로의 길이가 n, 세로의 길이가 m인 직사각형 형태를 출력해보세요.\n",
        "\n",
        "- n과 m은 각각 1000 이하인 자연수입니다."
      ],
      "metadata": {
        "id": "TO7M1VC6jg0d"
      }
    },
    {
      "cell_type": "code",
      "source": [
        "n, m = map(int, input().strip().split(' '))\n",
        "\n",
        "for i in range(m):\n",
        "  for j in range(n):\n",
        "    print('*', end='')\n",
        "  print('')\n"
      ],
      "metadata": {
        "colab": {
          "base_uri": "https://localhost:8080/"
        },
        "id": "m4vAmoK1jnBI",
        "outputId": "51fd914e-aeb1-47c4-85a0-6c7617fcf163"
      },
      "execution_count": null,
      "outputs": [
        {
          "output_type": "stream",
          "name": "stdout",
          "text": [
            "5 3\n",
            "*****\n",
            "*****\n",
            "*****\n"
          ]
        }
      ]
    },
    {
      "cell_type": "code",
      "source": [
        "n, m = map(int, input().strip().split(' '))\n",
        "answer = ('*'*n + '\\n')*m\n",
        "print(answer)"
      ],
      "metadata": {
        "colab": {
          "base_uri": "https://localhost:8080/"
        },
        "id": "2piqf76ikMm-",
        "outputId": "9244bcee-0110-45d0-8983-77d7b6a2256b"
      },
      "execution_count": null,
      "outputs": [
        {
          "output_type": "stream",
          "name": "stdout",
          "text": [
            "5 3\n",
            "*****\n",
            "*****\n",
            "*****\n",
            "\n"
          ]
        }
      ]
    },
    {
      "cell_type": "code",
      "source": [],
      "metadata": {
        "id": "El6NHJ06qYu4"
      },
      "execution_count": null,
      "outputs": []
    },
    {
      "cell_type": "markdown",
      "source": [
        "## 최대공약수와 최소공배수\n",
        "두 수를 입력받아 두 수의 최대공약수와 최소공배수를 반환하는 함수, solution을 완성해 보세요.\\\n",
        "배열의 맨 앞에 최대공약수, 그다음 최소공배수를 넣어 반환하면 됩니다.\\\n",
        "예를 들어 두 수 3, 12의 최대공약수는 3, 최소공배수는 12이므로 solution(3, 12)는 [3, 12]를 반환해야 합니다.\n",
        "\n",
        "- 두 수는 1이상 1000000이하의 자연수입니다."
      ],
      "metadata": {
        "id": "A9Zl69Zkqo5C"
      }
    },
    {
      "cell_type": "code",
      "source": [
        "def solution(n, m):\n",
        "  answer = []\n",
        "  \n",
        "  # 최대공약수\n",
        "  for i in range(min(n, m), 0, -1):\n",
        "    if n % i == 0 and m % i == 0:\n",
        "      answer.append(i)\n",
        "      break\n",
        "  \n",
        "  # 최소공배수\n",
        "  for j in range(max(n, m), n*m+1):\n",
        "    if j % n == 0 and j % m == 0:\n",
        "      answer.append(j)\n",
        "      break\n",
        "      \n",
        "  return answer"
      ],
      "metadata": {
        "id": "G5RqPFX6qvKJ"
      },
      "execution_count": null,
      "outputs": []
    },
    {
      "cell_type": "code",
      "source": [
        "print(solution(3, 12))\n",
        "print(solution(2, 5))"
      ],
      "metadata": {
        "colab": {
          "base_uri": "https://localhost:8080/"
        },
        "id": "gERTPTaJzTpN",
        "outputId": "68cf88c6-26cf-4855-e9fe-adc9634e2158"
      },
      "execution_count": null,
      "outputs": [
        {
          "output_type": "stream",
          "name": "stdout",
          "text": [
            "[3, 12]\n",
            "[1, 10]\n"
          ]
        }
      ]
    },
    {
      "cell_type": "code",
      "source": [],
      "metadata": {
        "id": "9TjoVVMIzXvo"
      },
      "execution_count": null,
      "outputs": []
    },
    {
      "cell_type": "markdown",
      "source": [
        "## 같은 숫자는 싫어\n",
        "배열 arr가 주어집니다. 배열 arr의 각 원소는 숫자 0부터 9까지로 이루어져 있습니다.\\\n",
        "이때, 배열 arr에서 연속적으로 나타나는 숫자는 하나만 남기고 전부 제거하려고 합니다.\\\n",
        "단, 제거된 후 남은 수들을 반환할 때는 배열 arr의 원소들의 순서를 유지해야 합니다.\\\n",
        "예를 들면,\n",
        "\n",
        "\n",
        "```\n",
        "arr = [1, 1, 3, 3, 0, 1, 1] 이면 [1, 3, 0, 1] 을 return 합니다.\n",
        "arr = [4, 4, 4, 3, 3] 이면 [4, 3] 을 return 합니다.\n",
        "```\n",
        "배열 arr에서 연속적으로 나타나는 숫자는 제거하고 남은 수들을 return 하는 solution 함수를 완성해 주세요.\n",
        "\n",
        "- 배열 arr의 크기 : 1,000,000 이하의 자연수\n",
        "- 배열 arr의 원소의 크기 : 0보다 크거나 같고 9보다 작거나 같은 정수"
      ],
      "metadata": {
        "id": "PZCRoo9T0TlO"
      }
    },
    {
      "cell_type": "code",
      "source": [
        "def solution(arr):\n",
        "  answer = []\n",
        "  answer.append(arr[0])\n",
        "\n",
        "  for i in range(1, len(arr)):\n",
        "    if arr[i] != arr[i-1]:\n",
        "      answer.append(arr[i])\n",
        "      \n",
        "  return answer"
      ],
      "metadata": {
        "id": "m2MhbUww0slA"
      },
      "execution_count": null,
      "outputs": []
    },
    {
      "cell_type": "code",
      "source": [
        "print(solution([1, 1, 3, 3, 0, 1, 1]))\n",
        "print(solution([4, 4, 4, 3, 3]))"
      ],
      "metadata": {
        "colab": {
          "base_uri": "https://localhost:8080/"
        },
        "id": "50gSMbLc2gdg",
        "outputId": "942ff251-3ff8-4f23-a14f-cd5419d2e710"
      },
      "execution_count": null,
      "outputs": [
        {
          "output_type": "stream",
          "name": "stdout",
          "text": [
            "[1, 3, 0, 1]\n",
            "[4, 3]\n"
          ]
        }
      ]
    },
    {
      "cell_type": "code",
      "source": [],
      "metadata": {
        "id": "K060x1jG5GzT"
      },
      "execution_count": null,
      "outputs": []
    },
    {
      "cell_type": "markdown",
      "source": [
        "## 3진법 뒤집기\n",
        "자연수 n이 매개변수로 주어집니다. n을 3진법 상에서 앞뒤로 뒤집은 후,\\\n",
        "이를 다시 10진법으로 표현한 수를 return 하도록 solution 함수를 완성해주세요.\n",
        "\n",
        "- n은 1 이상 100,000,000 이하인 자연수입니다."
      ],
      "metadata": {
        "id": "4M9Df4Sv551s"
      }
    },
    {
      "cell_type": "code",
      "source": [
        "def solution(n):\n",
        "  answer = ''\n",
        "\n",
        "  while n > 0:\n",
        "    n, re = divmod(n, 3)   # n을 3으로 나눈 몫과 나머지\n",
        "    answer += str(re)\n",
        "    \n",
        "  return int(answer, 3)    # 3진법으로 구성된 str 형식의 수를 10진법으로 변환"
      ],
      "metadata": {
        "id": "ghkMn5ZT6AMK"
      },
      "execution_count": null,
      "outputs": []
    },
    {
      "cell_type": "code",
      "source": [
        "print(solution(45))\n",
        "print(solution(125))"
      ],
      "metadata": {
        "colab": {
          "base_uri": "https://localhost:8080/"
        },
        "id": "fNW9bQgkAIIP",
        "outputId": "221c8dbb-df04-4901-9193-5c6e6071ff60"
      },
      "execution_count": null,
      "outputs": [
        {
          "output_type": "stream",
          "name": "stdout",
          "text": [
            "7\n",
            "229\n"
          ]
        }
      ]
    },
    {
      "cell_type": "code",
      "source": [],
      "metadata": {
        "id": "qzBWfuLdAPap"
      },
      "execution_count": null,
      "outputs": []
    },
    {
      "cell_type": "markdown",
      "source": [
        "## 이상한 문자 만들기\n",
        "문자열 s는 한 개 이상의 단어로 구성되어 있습니다. 각 단어는 하나 이상의 공백문자로 구분되어 있습니다.\\\n",
        "각 단어의 짝수번째 알파벳은 대문자로, 홀수번째 알파벳은 소문자로 바꾼 문자열을 리턴하는 함수, solution을 완성하세요.\n",
        "\n",
        "- 문자열 전체의 짝/홀수 인덱스가 아니라, 단어(공백을 기준)별로 짝/홀수 인덱스를 판단해야합니다.\n",
        "- 첫 번째 글자는 0번째 인덱스로 보아 짝수번째 알파벳으로 처리해야 합니다."
      ],
      "metadata": {
        "id": "iL40xZmmCYze"
      }
    },
    {
      "cell_type": "code",
      "source": [
        "def solution(s):\n",
        "  answer = ''\n",
        "  S = s.split(' ')\n",
        "\n",
        "  for i in range(len(S)):\n",
        "    for j in range(len(S[i])):\n",
        "      if j % 2 == 0:\n",
        "        answer += S[i][j].upper()\n",
        "      else:\n",
        "        answer += S[i][j].lower()\n",
        "    answer += ' '\n",
        "\n",
        "  return answer[:-1]"
      ],
      "metadata": {
        "id": "FZGfrZRvCfpU"
      },
      "execution_count": null,
      "outputs": []
    },
    {
      "cell_type": "code",
      "source": [
        "solution(\"try hello world\")"
      ],
      "metadata": {
        "colab": {
          "base_uri": "https://localhost:8080/",
          "height": 35
        },
        "id": "Uf8-oGymF1Y6",
        "outputId": "5adb29f5-ee26-4b58-9c55-c7b7306c27fb"
      },
      "execution_count": null,
      "outputs": [
        {
          "output_type": "execute_result",
          "data": {
            "text/plain": [
              "'TrY HeLlO WoRlD'"
            ],
            "application/vnd.google.colaboratory.intrinsic+json": {
              "type": "string"
            }
          },
          "metadata": {},
          "execution_count": 64
        }
      ]
    },
    {
      "cell_type": "code",
      "source": [
        "s = \"try hello world\"\n",
        "s.split(' ')"
      ],
      "metadata": {
        "colab": {
          "base_uri": "https://localhost:8080/"
        },
        "id": "jNdE5D3BD5HP",
        "outputId": "7a536f7a-366c-423d-a83e-704e28ad2558"
      },
      "execution_count": null,
      "outputs": [
        {
          "output_type": "execute_result",
          "data": {
            "text/plain": [
              "['try', 'hello', 'world']"
            ]
          },
          "metadata": {},
          "execution_count": 52
        }
      ]
    },
    {
      "cell_type": "code",
      "source": [
        "ss = s.split(' ')\n",
        "' '.join(ss)"
      ],
      "metadata": {
        "colab": {
          "base_uri": "https://localhost:8080/",
          "height": 35
        },
        "id": "VR8uimxTD8nK",
        "outputId": "756bb537-13fe-4155-ff65-a7bded36877d"
      },
      "execution_count": null,
      "outputs": [
        {
          "output_type": "execute_result",
          "data": {
            "text/plain": [
              "'try hello world'"
            ],
            "application/vnd.google.colaboratory.intrinsic+json": {
              "type": "string"
            }
          },
          "metadata": {},
          "execution_count": 54
        }
      ]
    },
    {
      "cell_type": "code",
      "source": [
        "ss[0][0].upper()\n",
        "ss"
      ],
      "metadata": {
        "colab": {
          "base_uri": "https://localhost:8080/"
        },
        "id": "pkm_uuLIEFtN",
        "outputId": "35a53548-d9c4-43c9-d872-13c18bfd1c70"
      },
      "execution_count": null,
      "outputs": [
        {
          "output_type": "execute_result",
          "data": {
            "text/plain": [
              "['try', 'hello', 'world']"
            ]
          },
          "metadata": {},
          "execution_count": 60
        }
      ]
    },
    {
      "cell_type": "code",
      "source": [],
      "metadata": {
        "id": "tu5DbblHE4ty"
      },
      "execution_count": null,
      "outputs": []
    }
  ]
}