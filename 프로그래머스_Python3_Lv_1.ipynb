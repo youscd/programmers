{
  "nbformat": 4,
  "nbformat_minor": 0,
  "metadata": {
    "colab": {
      "provenance": [],
      "toc_visible": true,
      "authorship_tag": "ABX9TyP0t4VC20QySaGFgbyVBOBA",
      "include_colab_link": true
    },
    "kernelspec": {
      "name": "python3",
      "display_name": "Python 3"
    },
    "language_info": {
      "name": "python"
    }
  },
  "cells": [
    {
      "cell_type": "markdown",
      "metadata": {
        "id": "view-in-github",
        "colab_type": "text"
      },
      "source": [
        "<a href=\"https://colab.research.google.com/github/youscd/programmers/blob/main/%ED%94%84%EB%A1%9C%EA%B7%B8%EB%9E%98%EB%A8%B8%EC%8A%A4_Python3_Lv_1.ipynb\" target=\"_parent\"><img src=\"https://colab.research.google.com/assets/colab-badge.svg\" alt=\"Open In Colab\"/></a>"
      ]
    },
    {
      "cell_type": "markdown",
      "source": [
        "# 230309"
      ],
      "metadata": {
        "id": "wCQs-f4T8s-z"
      }
    },
    {
      "cell_type": "markdown",
      "source": [
        "## 약수의 합\n",
        "정수 n을 입력받아 n의 약수를 모두 더한 값을 리턴하는 함수 solution 을 완성해주세요.\n",
        "\n",
        "*   n은 0 이상 3000 이하인 정수\n",
        "\n"
      ],
      "metadata": {
        "id": "urtoCp29CVQl"
      }
    },
    {
      "cell_type": "code",
      "execution_count": null,
      "metadata": {
        "id": "LatFMlSZCRoI"
      },
      "outputs": [],
      "source": [
        "import pandas as pd\n",
        "import numpy as np"
      ]
    },
    {
      "cell_type": "code",
      "source": [
        "def solution(n):\n",
        "  answer = 0\n",
        "  for m in range(1, n+1):\n",
        "    if n % m == 0:\n",
        "      answer += m\n",
        "    else:\n",
        "      pass\n",
        "\n",
        "  return answer"
      ],
      "metadata": {
        "id": "Jp98j45eCXbT"
      },
      "execution_count": null,
      "outputs": []
    },
    {
      "cell_type": "code",
      "source": [
        "solution(5)"
      ],
      "metadata": {
        "colab": {
          "base_uri": "https://localhost:8080/"
        },
        "id": "tSqXNsXvEES_",
        "outputId": "0a3cf8dd-b64f-4cef-f861-ccba3d2edf94"
      },
      "execution_count": null,
      "outputs": [
        {
          "output_type": "execute_result",
          "data": {
            "text/plain": [
              "6"
            ]
          },
          "metadata": {},
          "execution_count": 8
        }
      ]
    },
    {
      "cell_type": "code",
      "source": [],
      "metadata": {
        "id": "bsfXWk5KEHAn"
      },
      "execution_count": null,
      "outputs": []
    },
    {
      "cell_type": "markdown",
      "source": [
        "## 짝수와 홀수\n",
        "정수 num이 짝수일 경우 \"Even\"을 반환하고 홀수인 경우 \"Odd\"를 반환하는 함수, solution을 완성해주세요.\n",
        "\n",
        "*   num은 int 범위의 정수입니다.\n",
        "*   0은 짝수입니다."
      ],
      "metadata": {
        "id": "erUiU2JqFH6F"
      }
    },
    {
      "cell_type": "code",
      "source": [
        "def solution(num):\n",
        "    answer = ''\n",
        "    if num % 2 == 0:\n",
        "      answer = \"Even\"\n",
        "    else:\n",
        "      answer = \"Odd\"\n",
        "    return answer"
      ],
      "metadata": {
        "id": "mtevnnRTFS8G"
      },
      "execution_count": null,
      "outputs": []
    },
    {
      "cell_type": "code",
      "source": [
        "solution(0)"
      ],
      "metadata": {
        "colab": {
          "base_uri": "https://localhost:8080/",
          "height": 35
        },
        "id": "mUj7CL4SFy2S",
        "outputId": "a4e62cdf-a0c5-4761-a789-085b5186592a"
      },
      "execution_count": null,
      "outputs": [
        {
          "output_type": "execute_result",
          "data": {
            "text/plain": [
              "'Even'"
            ],
            "application/vnd.google.colaboratory.intrinsic+json": {
              "type": "string"
            }
          },
          "metadata": {},
          "execution_count": 16
        }
      ]
    },
    {
      "cell_type": "code",
      "source": [],
      "metadata": {
        "id": "qMx4Mp__F0Kz"
      },
      "execution_count": null,
      "outputs": []
    },
    {
      "cell_type": "markdown",
      "source": [
        "## 자릿수 더하기\n",
        "자연수 N이 주어지면, N의 각 자릿수의 합을 구해서 return 하는 solution 함수를 만들어 주세요.\\\n",
        "예를들어 N = 123이면 1 + 2 + 3 = 6을 return 하면 됩니다.\n",
        "\n",
        "*   N의 범위 : 100,000,000 이하의 자연수\n",
        "\n"
      ],
      "metadata": {
        "id": "J9c9QaRHHmnx"
      }
    },
    {
      "cell_type": "code",
      "source": [
        "def solution(N):\n",
        "    answer = 0\n",
        "    n = str(N)\n",
        "    for i in range(len(n)):\n",
        "      answer += int(n[i])   \n",
        "\n",
        "    return answer"
      ],
      "metadata": {
        "id": "P6ODL-_vHuAz"
      },
      "execution_count": null,
      "outputs": []
    },
    {
      "cell_type": "code",
      "source": [
        "solution(987)"
      ],
      "metadata": {
        "colab": {
          "base_uri": "https://localhost:8080/"
        },
        "id": "ngpCOnXrL2Wm",
        "outputId": "9f33dee3-8086-4fc1-af90-6e94b55c67fc"
      },
      "execution_count": null,
      "outputs": [
        {
          "output_type": "execute_result",
          "data": {
            "text/plain": [
              "24"
            ]
          },
          "metadata": {},
          "execution_count": 23
        }
      ]
    },
    {
      "cell_type": "code",
      "source": [],
      "metadata": {
        "id": "Yo04EFbkNTcF"
      },
      "execution_count": null,
      "outputs": []
    },
    {
      "cell_type": "markdown",
      "source": [
        "## 평균 구하기\n",
        "정수를 담고 있는 배열 arr의 평균값을 return하는 함수, solution을 완성해보세요.\n",
        "\n",
        "- arr은 길이 1 이상, 100 이하인 배열입니다.\n",
        "- arr의 원소는 -10,000 이상 10,000 이하인 정수입니다."
      ],
      "metadata": {
        "id": "WZGYuaqRNqba"
      }
    },
    {
      "cell_type": "code",
      "source": [
        "def solution(arr):\n",
        "    answer = 0\n",
        "    sum = 0\n",
        "    for i in range(len(arr)):\n",
        "      sum += arr[i]\n",
        "      answer = sum / len(arr)\n",
        "    return answer"
      ],
      "metadata": {
        "id": "yaqd7R2yNra_"
      },
      "execution_count": null,
      "outputs": []
    },
    {
      "cell_type": "code",
      "source": [
        "solution([5,5])"
      ],
      "metadata": {
        "colab": {
          "base_uri": "https://localhost:8080/"
        },
        "id": "R0fKMQg-O0dE",
        "outputId": "32277e20-c2a5-4540-c1f8-50c46c49f750"
      },
      "execution_count": null,
      "outputs": [
        {
          "output_type": "execute_result",
          "data": {
            "text/plain": [
              "5.0"
            ]
          },
          "metadata": {},
          "execution_count": 26
        }
      ]
    },
    {
      "cell_type": "code",
      "source": [],
      "metadata": {
        "id": "-FaVcU90O2md"
      },
      "execution_count": null,
      "outputs": []
    },
    {
      "cell_type": "markdown",
      "source": [
        "## 자연수 뒤집어 배열로 만들기\n",
        "자연수 n을 뒤집어 각 자리 숫자를 원소로 가지는 배열 형태로 리턴해주세요.\\\n",
        "예를들어 n이 12345이면 [5,4,3,2,1]을 리턴합니다.\n",
        "\n",
        "- n은 10,000,000,000이하인 자연수입니다."
      ],
      "metadata": {
        "id": "XBV8ffLjPKj8"
      }
    },
    {
      "cell_type": "code",
      "source": [
        "def solution(n):\n",
        "    answer = []\n",
        "    m = str(n)\n",
        "    for i in range(len(m)-1, -1, -1):\n",
        "      answer.append(int(m[i]))\n",
        "\n",
        "    return answer"
      ],
      "metadata": {
        "id": "DNGPiLQJPOtX"
      },
      "execution_count": null,
      "outputs": []
    },
    {
      "cell_type": "code",
      "source": [
        "solution(12345)"
      ],
      "metadata": {
        "colab": {
          "base_uri": "https://localhost:8080/"
        },
        "id": "N00IX_TmRfuB",
        "outputId": "a1dff209-18a1-4b5c-9aa4-b7e9846eb56a"
      },
      "execution_count": null,
      "outputs": [
        {
          "output_type": "execute_result",
          "data": {
            "text/plain": [
              "[5, 4, 3, 2, 1]"
            ]
          },
          "metadata": {},
          "execution_count": 47
        }
      ]
    },
    {
      "cell_type": "code",
      "source": [],
      "metadata": {
        "id": "dJt-ooG-Sp7H"
      },
      "execution_count": null,
      "outputs": []
    },
    {
      "cell_type": "markdown",
      "source": [
        "## x만큼 간격이 있는 n개의 숫자\n",
        "함수 solution은 정수 x와 자연수 n을 입력 받아, x부터 시작해 x씩 증가하는 숫자를 n개 지니는 리스트를 리턴해야 합니다.\\\n",
        "다음 제한 조건을 보고, 조건을 만족하는 함수, solution을 완성해주세요.\n",
        "\n",
        "- x는 -10000000 이상, 10000000 이하인 정수입니다.\n",
        "- n은 1000 이하인 자연수입니다."
      ],
      "metadata": {
        "id": "BxRpXLyBTL1f"
      }
    },
    {
      "cell_type": "code",
      "source": [
        "def solution(x, n):\n",
        "    answer = []\n",
        "    y = 0\n",
        "    for _ in range(n):\n",
        "      y += x\n",
        "      answer.append(y)\n",
        "    return answer"
      ],
      "metadata": {
        "id": "nDHnOx7yTTc2"
      },
      "execution_count": null,
      "outputs": []
    },
    {
      "cell_type": "code",
      "source": [
        "solution(-4, 2)"
      ],
      "metadata": {
        "colab": {
          "base_uri": "https://localhost:8080/"
        },
        "id": "p26jhtfMWG6H",
        "outputId": "54306296-ca91-42c7-c494-31c29da614f8"
      },
      "execution_count": null,
      "outputs": [
        {
          "output_type": "execute_result",
          "data": {
            "text/plain": [
              "[-4, -8]"
            ]
          },
          "metadata": {},
          "execution_count": 54
        }
      ]
    },
    {
      "cell_type": "code",
      "source": [],
      "metadata": {
        "id": "QNcL16y5WIip"
      },
      "execution_count": null,
      "outputs": []
    },
    {
      "cell_type": "markdown",
      "source": [
        "## 문자열 내 p와 y의 개수\n",
        "대문자와 소문자가 섞여있는 문자열 s가 주어집니다.\\\n",
        "s에 'p'의 개수와 'y'의 개수를 비교해 같으면 True, 다르면 False를 return 하는 solution를 완성하세요.\\\n",
        "'p', 'y' 모두 하나도 없는 경우는 항상 True를 리턴합니다.\\\n",
        "단, 개수를 비교할 때 대문자와 소문자는 구별하지 않습니다.\n",
        "\n",
        "예를 들어 s가 \"pPoooyY\"면 true를 return하고 \"Pyy\"라면 false를 return합니다.\n",
        "\n",
        "- 문자열 s의 길이 : 50 이하의 자연수\n",
        "- 문자열 s는 알파벳으로만 이루어져 있습니다."
      ],
      "metadata": {
        "id": "rNX1N_4iW6Gc"
      }
    },
    {
      "cell_type": "code",
      "source": [
        "def solution(s):\n",
        "  answer = True\n",
        "  s = s.lower()\n",
        "  if s.count('p') == s.count('y'):\n",
        "    answer = True\n",
        "  else:\n",
        "    answer = False\n",
        "  \n",
        "  return answer"
      ],
      "metadata": {
        "id": "yxepN4xzXIOB"
      },
      "execution_count": null,
      "outputs": []
    },
    {
      "cell_type": "code",
      "source": [
        "solution(\"pPoooyY\")"
      ],
      "metadata": {
        "colab": {
          "base_uri": "https://localhost:8080/"
        },
        "id": "TbW8xBY0-gZx",
        "outputId": "5e92957b-f595-4d99-802d-22bfa8044d74"
      },
      "execution_count": null,
      "outputs": [
        {
          "output_type": "execute_result",
          "data": {
            "text/plain": [
              "True"
            ]
          },
          "metadata": {},
          "execution_count": 65
        }
      ]
    },
    {
      "cell_type": "code",
      "source": [],
      "metadata": {
        "id": "Gvr7-FbRCK-l"
      },
      "execution_count": null,
      "outputs": []
    },
    {
      "cell_type": "markdown",
      "source": [
        "## 정수 제곱근 판별\n",
        "임의의 양의 정수 n에 대해, n이 어떤 양의 정수 x의 제곱인지 아닌지 판단하려 합니다.\\\n",
        "n이 양의 정수 x의 제곱이라면 x+1의 제곱을 리턴하고, n이 양의 정수 x의 제곱이 아니라면 -1을 리턴하는 함수를 완성하세요.\n",
        "\n",
        "- n은 1이상, 50000000000000 이하인 양의 정수입니다."
      ],
      "metadata": {
        "id": "FfDxAKbgE-HW"
      }
    },
    {
      "cell_type": "code",
      "source": [
        "def solution(n):\n",
        "  answer = 0\n",
        "  x = np.sqrt(n)\n",
        "  if n == int(x)**2:\n",
        "    answer = (int(x)+1)**2\n",
        "  else:\n",
        "    answer = -1\n",
        "\n",
        "  return answer"
      ],
      "metadata": {
        "id": "z-kx11eZFDmV"
      },
      "execution_count": null,
      "outputs": []
    },
    {
      "cell_type": "code",
      "source": [
        "solution(121)"
      ],
      "metadata": {
        "colab": {
          "base_uri": "https://localhost:8080/"
        },
        "id": "pNrn6twqGccS",
        "outputId": "aa92c88f-0959-42b4-84cc-f5a79124379e"
      },
      "execution_count": null,
      "outputs": [
        {
          "output_type": "execute_result",
          "data": {
            "text/plain": [
              "144"
            ]
          },
          "metadata": {},
          "execution_count": 79
        }
      ]
    },
    {
      "cell_type": "code",
      "source": [
        "x = np.sqrt(121)\n",
        "print(x)\n",
        "int(x)*2"
      ],
      "metadata": {
        "colab": {
          "base_uri": "https://localhost:8080/"
        },
        "id": "auMY7dq-Gd-j",
        "outputId": "258e1866-b2f5-4c12-e15a-09657afe9ac8"
      },
      "execution_count": null,
      "outputs": [
        {
          "output_type": "stream",
          "name": "stdout",
          "text": [
            "11.0\n"
          ]
        },
        {
          "output_type": "execute_result",
          "data": {
            "text/plain": [
              "22"
            ]
          },
          "metadata": {},
          "execution_count": 76
        }
      ]
    },
    {
      "cell_type": "code",
      "source": [],
      "metadata": {
        "id": "I0sv83LDJBhX"
      },
      "execution_count": null,
      "outputs": []
    },
    {
      "cell_type": "markdown",
      "source": [
        "## 문자열을 정수로 바꾸기\n",
        "문자열 s를 숫자로 변환한 결과를 반환하는 함수, solution을 완성하세요.\n",
        "\n",
        "- s의 길이는 1 이상 5이하입니다.\n",
        "- s의 맨앞에는 부호(+, -)가 올 수 있습니다.\n",
        "- s는 부호와 숫자로만 이루어져있습니다.\n",
        "- s는 \"0\"으로 시작하지 않습니다."
      ],
      "metadata": {
        "id": "ess1HDneJ2lD"
      }
    },
    {
      "cell_type": "code",
      "source": [
        "def solution(s):\n",
        "  answer = int(S)\n",
        "  return answer"
      ],
      "metadata": {
        "id": "TwgpPAGgJ9MW"
      },
      "execution_count": null,
      "outputs": []
    },
    {
      "cell_type": "code",
      "source": [
        "int('-1234')"
      ],
      "metadata": {
        "colab": {
          "base_uri": "https://localhost:8080/"
        },
        "id": "ZdwEyh5fOd8R",
        "outputId": "33d703d6-78bf-4a20-b4e0-240fb5bb6409"
      },
      "execution_count": null,
      "outputs": [
        {
          "output_type": "execute_result",
          "data": {
            "text/plain": [
              "-1234"
            ]
          },
          "metadata": {},
          "execution_count": 80
        }
      ]
    },
    {
      "cell_type": "code",
      "source": [],
      "metadata": {
        "id": "ijba879EOf2r"
      },
      "execution_count": null,
      "outputs": []
    },
    {
      "cell_type": "markdown",
      "source": [
        "## 정수 내림차순으로 배치하기\n",
        "함수 solution은 정수 n을 매개변수로 입력받습니다.\\\n",
        "n의 각 자릿수를 큰것부터 작은 순으로 정렬한 새로운 정수를 리턴해주세요.\\\n",
        "예를들어 n이 118372면 873211을 리턴하면 됩니다.\n",
        "\n",
        "- n은 1이상 8000000000 이하인 자연수입니다."
      ],
      "metadata": {
        "id": "cn1yXN8aQciD"
      }
    },
    {
      "cell_type": "code",
      "source": [
        "def solution(n):\n",
        "    answer = 0\n",
        "    lst = list(str(n))\n",
        "    lst.sort(reverse=True)\n",
        "    answer = int(\"\".join(lst))\n",
        "\n",
        "    return answer"
      ],
      "metadata": {
        "id": "uDdl3x5nQiy6"
      },
      "execution_count": null,
      "outputs": []
    },
    {
      "cell_type": "code",
      "source": [
        "solution(118372)"
      ],
      "metadata": {
        "colab": {
          "base_uri": "https://localhost:8080/"
        },
        "id": "8dmlLqHy3p8R",
        "outputId": "f32fac79-519e-450c-c485-89709345f65d"
      },
      "execution_count": null,
      "outputs": [
        {
          "output_type": "execute_result",
          "data": {
            "text/plain": [
              "873211"
            ]
          },
          "metadata": {},
          "execution_count": 94
        }
      ]
    },
    {
      "cell_type": "code",
      "source": [],
      "metadata": {
        "id": "YV9UykRI8ByF"
      },
      "execution_count": null,
      "outputs": []
    },
    {
      "cell_type": "markdown",
      "source": [
        "# 230326"
      ],
      "metadata": {
        "id": "c19xojFT5sJN"
      }
    },
    {
      "cell_type": "markdown",
      "source": [
        "## 나머지가 1이 되는 수 찾기\n",
        "자연수 n이 매개변수로 주어집니다.\\\n",
        "n을 x로 나눈 나머지가 1이 되도록 하는 가장 작은 자연수 x를 return 하도록 solution 함수를 완성해주세요.\\\n",
        "답이 항상 존재함은 증명될 수 있습니다.\n",
        "\n",
        "- 3 ≤ n ≤ 1,000,000"
      ],
      "metadata": {
        "id": "TWCw3WMB5w9a"
      }
    },
    {
      "cell_type": "code",
      "source": [
        "def solution(n):\n",
        "  answer = 2\n",
        "  \n",
        "  while n % answer != 1:\n",
        "    answer += 1\n",
        " \n",
        "  return answer"
      ],
      "metadata": {
        "id": "wyJk6NfO5uFw"
      },
      "execution_count": null,
      "outputs": []
    },
    {
      "cell_type": "code",
      "source": [
        "print(solution(10))\n",
        "print(solution(12))"
      ],
      "metadata": {
        "colab": {
          "base_uri": "https://localhost:8080/"
        },
        "id": "Le2divlgoLoQ",
        "outputId": "e7472a36-c554-4477-8857-7f286ea8f9a1"
      },
      "execution_count": null,
      "outputs": [
        {
          "output_type": "stream",
          "name": "stdout",
          "text": [
            "3\n",
            "11\n"
          ]
        }
      ]
    },
    {
      "cell_type": "code",
      "source": [],
      "metadata": {
        "id": "XrkGXQNDoVlV"
      },
      "execution_count": null,
      "outputs": []
    },
    {
      "cell_type": "markdown",
      "source": [
        "## 하샤드 수\n",
        "양의 정수 x가 하샤드 수이려면 x의 자릿수의 합으로 x가 나누어져야 합니다.\\\n",
        "예를 들어 18의 자릿수 합은 1+8=9이고, 18은 9로 나누어 떨어지므로 18은 하샤드 수입니다.\\\n",
        "자연수 x를 입력받아 x가 하샤드 수인지 아닌지 검사하는 함수, solution을 완성해주세요.\n",
        "\n",
        "- x는 1 이상, 10000 이하인 정수입니다."
      ],
      "metadata": {
        "id": "UfdYZp9moqUv"
      }
    },
    {
      "cell_type": "code",
      "source": [
        "def solution(x):\n",
        "  answer = True\n",
        "  y = list(str(x))\n",
        "  n = 0\n",
        "\n",
        "  for i in range(len(y)):\n",
        "    n += int(y[i])\n",
        "\n",
        "  if x % n != 0:\n",
        "    answer = False\n",
        "\n",
        "  return answer"
      ],
      "metadata": {
        "id": "mj4vGhdmpOkk"
      },
      "execution_count": null,
      "outputs": []
    },
    {
      "cell_type": "code",
      "source": [
        "print(solution(10))\n",
        "print(solution(12))\n",
        "print(solution(11))\n",
        "print(solution(13))"
      ],
      "metadata": {
        "colab": {
          "base_uri": "https://localhost:8080/"
        },
        "id": "nYXUaOtbxiLC",
        "outputId": "f0910aaf-ffde-4a2d-c885-b8dd7d0aac39"
      },
      "execution_count": null,
      "outputs": [
        {
          "output_type": "stream",
          "name": "stdout",
          "text": [
            "True\n",
            "True\n",
            "False\n",
            "False\n"
          ]
        }
      ]
    },
    {
      "cell_type": "code",
      "source": [
        "a = list(str(18))\n",
        "# print(a[0])\n",
        "# print(a[1])\n",
        "# print(int(a[0]) + int(a[1]))\n",
        "\n",
        "s = 0\n",
        "for i in range(len(a)):\n",
        "  s += int(a[i])\n",
        "\n",
        "print(s)"
      ],
      "metadata": {
        "colab": {
          "base_uri": "https://localhost:8080/"
        },
        "id": "Ah2c-XfQwWKQ",
        "outputId": "a9aa29d8-1440-4c01-c5d6-f0be3c6a1797"
      },
      "execution_count": null,
      "outputs": [
        {
          "output_type": "stream",
          "name": "stdout",
          "text": [
            "9\n"
          ]
        }
      ]
    },
    {
      "cell_type": "code",
      "source": [],
      "metadata": {
        "id": "3Af8FdqEwYKf"
      },
      "execution_count": null,
      "outputs": []
    },
    {
      "cell_type": "markdown",
      "source": [
        "## 두 정수 사이의 합\n",
        "\n",
        "두 정수 a, b가 주어졌을 때 a와 b 사이에 속한 모든 정수의 합을 리턴하는 함수, solution을 완성하세요.\\\n",
        "예를 들어 a = 3, b = 5인 경우, 3 + 4 + 5 = 12이므로 12를 리턴합니다.\n",
        "\n",
        "- a와 b가 같은 경우는 둘 중 아무 수나 리턴하세요.\n",
        "- a와 b는 -10,000,000 이상 10,000,000 이하인 정수입니다.\n",
        "- a와 b의 대소관계는 정해져있지 않습니다."
      ],
      "metadata": {
        "id": "q_xxBvTOyAtj"
      }
    },
    {
      "cell_type": "code",
      "source": [
        "def solution(a, b):\n",
        "  answer = 0\n",
        "\n",
        "  if b > a:\n",
        "    for i in range(a, b+1):\n",
        "      answer += i\n",
        "\n",
        "  elif a == b:\n",
        "    answer = a\n",
        "    \n",
        "  elif a > b:\n",
        "    for i in range(b, a+1):\n",
        "      answer += i\n",
        "\n",
        "  return answer"
      ],
      "metadata": {
        "id": "RtoIQQDvyK00"
      },
      "execution_count": null,
      "outputs": []
    },
    {
      "cell_type": "code",
      "source": [
        "print(solution(3, 5))\n",
        "print(solution(3, 3))\n",
        "print(solution(5, 3))"
      ],
      "metadata": {
        "colab": {
          "base_uri": "https://localhost:8080/"
        },
        "id": "ScB6JzRq5lFj",
        "outputId": "07f65f8b-106b-4983-ae49-e2b942bbcab6"
      },
      "execution_count": null,
      "outputs": [
        {
          "output_type": "stream",
          "name": "stdout",
          "text": [
            "12\n",
            "3\n",
            "12\n"
          ]
        }
      ]
    },
    {
      "cell_type": "code",
      "source": [],
      "metadata": {
        "id": "xsiDvZ146LZy"
      },
      "execution_count": null,
      "outputs": []
    },
    {
      "cell_type": "markdown",
      "source": [
        "## 콜라츠 추측\n",
        "1937년 Collatz란 사람에 의해 제기된 이 추측은, 주어진 수가 1이 될 때까지 다음 작업을 반복하면, 모든 수를 1로 만들 수 있다는 추측입니다. 작업은 다음과 같습니다.\n",
        "\n",
        "```\n",
        "1-1. 입력된 수가 짝수라면 2로 나눕니다. \n",
        "1-2. 입력된 수가 홀수라면 3을 곱하고 1을 더합니다. \n",
        "2. 결과로 나온 수에 같은 작업을 1이 될 때까지 반복합니다.\n",
        "```\n",
        "\n",
        "예를 들어, 주어진 수가 6이라면 6 → 3 → 10 → 5 → 16 → 8 → 4 → 2 → 1 이 되어 총 8번 만에 1이 됩니다.\\\n",
        "위 작업을 몇 번이나 반복해야 하는지 반환하는 함수, solution을 완성해 주세요.\\\n",
        "단, 주어진 수가 1인 경우에는 0을, 작업을 500번 반복할 때까지 1이 되지 않는다면 –1을 반환해 주세요.\n",
        "\n",
        "- 입력된 수, num은 1 이상 8,000,000 미만인 정수입니다.\n"
      ],
      "metadata": {
        "id": "W3q0UhqJ62OS"
      }
    },
    {
      "cell_type": "code",
      "source": [
        "def solution(num):\n",
        "  cnt = 0\n",
        "  \n",
        "  while num != 1:\n",
        "    cnt += 1\n",
        "    if num == 1:\n",
        "      cnt = 0\n",
        "    elif num % 2 == 0:\n",
        "      num = num // 2\n",
        "    else:\n",
        "      num = (num*3) + 1\n",
        "    \n",
        "  if cnt > 500:\n",
        "    cnt = -1\n",
        "\n",
        "  return cnt"
      ],
      "metadata": {
        "id": "Ew0x1fnf7vQh"
      },
      "execution_count": null,
      "outputs": []
    },
    {
      "cell_type": "code",
      "source": [
        "print(solution(6))\n",
        "print(solution(16))\n",
        "print(solution(626331))"
      ],
      "metadata": {
        "colab": {
          "base_uri": "https://localhost:8080/"
        },
        "id": "YyIOvhGrE_Qx",
        "outputId": "da9c72f8-e3d4-48f1-90df-b4e084581f92"
      },
      "execution_count": null,
      "outputs": [
        {
          "output_type": "stream",
          "name": "stdout",
          "text": [
            "8\n",
            "4\n",
            "-1\n"
          ]
        }
      ]
    },
    {
      "cell_type": "code",
      "source": [],
      "metadata": {
        "id": "vyp5NUD6FFZ7"
      },
      "execution_count": null,
      "outputs": []
    },
    {
      "cell_type": "markdown",
      "source": [
        "## 서울에서 김서방 찾기\n",
        "String형 배열 seoul의 element중 \"Kim\"의 위치 x를 찾아, \"김서방은 x에 있다\"는\\\n",
        "String을 반환하는 함수, solution을 완성하세요.\\\n",
        "seoul에 \"Kim\"은 오직 한 번만 나타나며 잘못된 값이 입력되는 경우는 없습니다.\n",
        "\n",
        "- seoul은 길이 1 이상, 1000 이하인 배열입니다.\n",
        "- seoul의 원소는 길이 1 이상, 20 이하인 문자열입니다.\n",
        "- \"Kim\"은 반드시 seoul 안에 포함되어 있습니다."
      ],
      "metadata": {
        "id": "s0lKn9d6NgA3"
      }
    },
    {
      "cell_type": "code",
      "source": [
        "def solution(seoul):\n",
        "  answer = ''\n",
        "\n",
        "  for x in range(len(seoul)):\n",
        "    if seoul[x] == \"Kim\":\n",
        "      answer = f'김서방은 {x}에 있다'\n",
        "    else:\n",
        "      continue\n",
        "      \n",
        "  return answer"
      ],
      "metadata": {
        "id": "8VXpT-3fNlv0"
      },
      "execution_count": null,
      "outputs": []
    },
    {
      "cell_type": "code",
      "source": [
        "solution([\"Jane\", \"Kim\"])"
      ],
      "metadata": {
        "colab": {
          "base_uri": "https://localhost:8080/",
          "height": 35
        },
        "id": "CVpItgwxOWyQ",
        "outputId": "8a09e2a5-3ff3-4346-812a-7365ec6717ad"
      },
      "execution_count": null,
      "outputs": [
        {
          "output_type": "execute_result",
          "data": {
            "text/plain": [
              "'김서방은 1에 있다'"
            ],
            "application/vnd.google.colaboratory.intrinsic+json": {
              "type": "string"
            }
          },
          "metadata": {},
          "execution_count": 28
        }
      ]
    },
    {
      "cell_type": "code",
      "source": [],
      "metadata": {
        "id": "duh4PIKfOb-r"
      },
      "execution_count": null,
      "outputs": []
    },
    {
      "cell_type": "markdown",
      "source": [
        "## 나누어 떨어지는 숫자 배열\n",
        "array의 각 element 중 divisor로 나누어 떨어지는 값을 오름차순으로 정렬한 배열을 반환하는 함수, solution을 작성해주세요.\\\n",
        "divisor로 나누어 떨어지는 element가 하나도 없다면 배열에 -1을 담아 반환하세요.\n",
        "\n",
        "- arr은 자연수를 담은 배열입니다.\n",
        "- 정수 i, j에 대해 i ≠ j 이면 arr[i] ≠ arr[j] 입니다.\n",
        "- divisor는 자연수입니다.\n",
        "- array는 길이 1 이상인 배열입니다."
      ],
      "metadata": {
        "id": "G8x68Nt1Oul3"
      }
    },
    {
      "cell_type": "code",
      "source": [
        "def solution(arr, divisor):\n",
        "  answer = []\n",
        "\n",
        "  for i in range(len(arr)):\n",
        "    if arr[i] % divisor == 0:\n",
        "      answer.append(arr[i])\n",
        "    else:\n",
        "      pass\n",
        "\n",
        "  if len(answer) == 0:\n",
        "    answer.append(-1)\n",
        "\n",
        "  return sorted(answer)"
      ],
      "metadata": {
        "id": "Pi1drT5yPB-B"
      },
      "execution_count": null,
      "outputs": []
    },
    {
      "cell_type": "code",
      "source": [
        "print(solution([5, 9, 7, 10], 5))\n",
        "print(solution([2, 36, 1, 3], 1))\n",
        "print(solution([3, 2, 6], 10))"
      ],
      "metadata": {
        "colab": {
          "base_uri": "https://localhost:8080/"
        },
        "id": "M0BUtjFPQp58",
        "outputId": "ac817a4c-4f98-4d54-9e7e-c0d640888661"
      },
      "execution_count": null,
      "outputs": [
        {
          "output_type": "stream",
          "name": "stdout",
          "text": [
            "[5, 10]\n",
            "[1, 2, 3, 36]\n",
            "[-1]\n"
          ]
        }
      ]
    },
    {
      "cell_type": "code",
      "source": [],
      "metadata": {
        "id": "ZGIdKgXqQ4ra"
      },
      "execution_count": null,
      "outputs": []
    },
    {
      "cell_type": "markdown",
      "source": [
        "## 핸드폰 번호 가리기\n",
        "프로그래머스 모바일은 개인정보 보호를 위해 고지서를 보낼 때 고객들의 전화번호의 일부를 가립니다.\\\n",
        "전화번호가 문자열 phone_number로 주어졌을 때, 전화번호의 뒷 4자리를 제외한 나머지 숫자를 전부 *으로 가린 문자열을 리턴하는 함수, solution을 완성해주세요.\n",
        "\n",
        "- phone_number는 길이 4 이상, 20이하인 문자열입니다."
      ],
      "metadata": {
        "id": "mAc0VOI-R2Nn"
      }
    },
    {
      "cell_type": "code",
      "source": [
        "def solution(phone_number):\n",
        "  answer = ''\n",
        "\n",
        "  lng = len(phone_number)\n",
        "  answer = '*' * (lng-4)\n",
        "  answer += phone_number[-4:]\n",
        "\n",
        "  return answer"
      ],
      "metadata": {
        "id": "dI7BdpV3R68t"
      },
      "execution_count": null,
      "outputs": []
    },
    {
      "cell_type": "code",
      "source": [
        "print(solution(\"01033334444\"))\n",
        "print(solution(\"027778888\"))"
      ],
      "metadata": {
        "colab": {
          "base_uri": "https://localhost:8080/"
        },
        "id": "GAtAGRswTHX9",
        "outputId": "57419efa-cef3-40e0-abc0-ba1b3a8e7a3b"
      },
      "execution_count": null,
      "outputs": [
        {
          "output_type": "stream",
          "name": "stdout",
          "text": [
            "*******4444\n",
            "*****8888\n"
          ]
        }
      ]
    },
    {
      "cell_type": "code",
      "source": [],
      "metadata": {
        "id": "dtkhfeUzTK71"
      },
      "execution_count": null,
      "outputs": []
    },
    {
      "cell_type": "markdown",
      "source": [
        "## 음양 더하기\n",
        "어떤 정수들이 있습니다.\\\n",
        "이 정수들의 절댓값을 차례대로 담은 정수 배열 absolutes와\\\n",
        " 이 정수들의 부호를 차례대로 담은 불리언 배열 signs가 매개변수로 주어집니다.\\\n",
        "실제 정수들의 합을 구하여 return 하도록 solution 함수를 완성해주세요.\n",
        "\n",
        "- absolutes의 길이는 1 이상 1,000 이하입니다.\n",
        "  - absolutes의 모든 수는 각각 1 이상 1,000 이하입니다.\n",
        "- signs의 길이는 absolutes의 길이와 같습니다.\n",
        "  - signs[i] 가 참이면 absolutes[i] 의 실제 정수가 양수임을, 그렇지 않으면 음수임을 의미합니다."
      ],
      "metadata": {
        "id": "g90Yma7nYiEp"
      }
    },
    {
      "cell_type": "code",
      "source": [
        "def solution(absolutes, signs):\n",
        "    answer = 0\n",
        "    \n",
        "    for i in range(len(absolutes)):\n",
        "      if signs[i] == False:\n",
        "        absolutes[i] *= -1\n",
        "      else:\n",
        "        pass\n",
        "    \n",
        "    answer = sum(absolutes)\n",
        "\n",
        "    return answer"
      ],
      "metadata": {
        "id": "O1WfLVo2YsVA"
      },
      "execution_count": null,
      "outputs": []
    },
    {
      "cell_type": "code",
      "source": [
        "print(solution([4, 7, 12], [True, False, True]))\n",
        "print(solution([1, 2, 3], [False, False, True]))"
      ],
      "metadata": {
        "colab": {
          "base_uri": "https://localhost:8080/"
        },
        "id": "RAHzn8Yce0IP",
        "outputId": "5c36050b-88ab-461f-c9f2-44cc9a8b720b"
      },
      "execution_count": null,
      "outputs": [
        {
          "output_type": "stream",
          "name": "stdout",
          "text": [
            "9\n",
            "0\n"
          ]
        }
      ]
    },
    {
      "cell_type": "code",
      "source": [],
      "metadata": {
        "id": "Stm_xijpe645"
      },
      "execution_count": null,
      "outputs": []
    },
    {
      "cell_type": "markdown",
      "source": [
        "## 제일 작은 수 제거하기\n",
        "정수를 저장한 배열, arr 에서 가장 작은 수를 제거한 배열을 리턴하는 함수, solution을 완성해주세요.\\\n",
        "단, 리턴하려는 배열이 빈 배열인 경우엔 배열에 -1을 채워 리턴하세요.\\\n",
        "예를들어 arr이 [4,3,2,1]인 경우는 [4,3,2]를 리턴 하고, [10]면 [-1]을 리턴 합니다.\n",
        "\n",
        "- arr은 길이 1 이상인 배열입니다.\n",
        "- 인덱스 i, j에 대해 i ≠ j이면 arr[i] ≠ arr[j] 입니다."
      ],
      "metadata": {
        "id": "N4KVn_WXfVzR"
      }
    },
    {
      "cell_type": "code",
      "source": [
        "def solution(arr):\n",
        "  answer = []\n",
        "\n",
        "  if len(arr) != 1:\n",
        "    answer = sorted(arr)[-1:]\n",
        "  else:\n",
        "    answer = [-1]\n",
        "\n",
        "  return answer"
      ],
      "metadata": {
        "id": "264fWN9gfg9x"
      },
      "execution_count": null,
      "outputs": []
    },
    {
      "cell_type": "code",
      "source": [
        "print(solution([4,3,2,1]))\n",
        "print(solution([10]))"
      ],
      "metadata": {
        "colab": {
          "base_uri": "https://localhost:8080/"
        },
        "id": "TZacT_GLgQaU",
        "outputId": "c95c9849-4aa3-4d19-c7dc-045e37d78ea5"
      },
      "execution_count": null,
      "outputs": [
        {
          "output_type": "stream",
          "name": "stdout",
          "text": [
            "[2, 3, 4]\n",
            "[-1]\n"
          ]
        }
      ]
    },
    {
      "cell_type": "code",
      "source": [
        "def solution(arr):\n",
        "\n",
        "  if len(arr) != 1:\n",
        "    arr.remove(min(arr))\n",
        "  else:\n",
        "    arr = [-1]\n",
        "\n",
        "  return arr"
      ],
      "metadata": {
        "id": "hOZXk4Q3GPax"
      },
      "execution_count": null,
      "outputs": []
    },
    {
      "cell_type": "code",
      "source": [
        "print(solution([4,3,2,1]))\n",
        "print(solution([10]))"
      ],
      "metadata": {
        "colab": {
          "base_uri": "https://localhost:8080/"
        },
        "id": "FicZnBhuIy90",
        "outputId": "b5163e20-0c88-4d53-f56a-3d22315e096d"
      },
      "execution_count": null,
      "outputs": [
        {
          "output_type": "stream",
          "name": "stdout",
          "text": [
            "[4, 3, 2]\n",
            "[-1]\n"
          ]
        }
      ]
    },
    {
      "cell_type": "code",
      "source": [],
      "metadata": {
        "id": "S5eZSdh1I0KU"
      },
      "execution_count": null,
      "outputs": []
    },
    {
      "cell_type": "markdown",
      "source": [
        "## 없는 숫자 더하기\n",
        "0부터 9까지의 숫자 중 일부가 들어있는 정수 배열 numbers가 매개변수로 주어집니다.\\\n",
        "numbers에서 찾을 수 없는 0부터 9까지의 숫자를 모두 찾아 더한 수를 return 하도록 solution 함수를 완성해주세요.\n",
        "\n",
        "- 1 ≤ numbers의 길이 ≤ 9\n",
        "- 0 ≤ numbers의 모든 원소 ≤ 9\n",
        "- numbers의 모든 원소는 서로 다릅니다."
      ],
      "metadata": {
        "id": "CcP9GxVEJZLz"
      }
    },
    {
      "cell_type": "code",
      "source": [
        "def solution(numbers):\n",
        "  s = 0\n",
        "  answer = 0\n",
        "\n",
        "  for i in range(10):\n",
        "    s += i\n",
        "  \n",
        "  answer = s - sum(numbers)\n",
        "\n",
        "  return answer"
      ],
      "metadata": {
        "id": "biJV1ymSKcKt"
      },
      "execution_count": null,
      "outputs": []
    },
    {
      "cell_type": "code",
      "source": [
        "print(solution([1,2,3,4,6,7,8,0]))\n",
        "print(solution([5,8,4,0,6,7,9]))\n"
      ],
      "metadata": {
        "colab": {
          "base_uri": "https://localhost:8080/"
        },
        "id": "DQAhS1HLMTC-",
        "outputId": "89c79355-bea8-466b-b6bf-9da174f78f12"
      },
      "execution_count": null,
      "outputs": [
        {
          "output_type": "stream",
          "name": "stdout",
          "text": [
            "14\n",
            "6\n"
          ]
        }
      ]
    },
    {
      "cell_type": "code",
      "source": [],
      "metadata": {
        "id": "lagLWZXTMTUP"
      },
      "execution_count": null,
      "outputs": []
    },
    {
      "cell_type": "markdown",
      "source": [
        "## 가운데 글자 가져오기\n",
        "단어 s의 가운데 글자를 반환하는 함수, solution을 만들어 보세요.\\\n",
        "단어의 길이가 짝수라면 가운데 두글자를 반환하면 됩니다.\n",
        "\n",
        "- s는 길이가 1 이상, 100이하인 스트링입니다."
      ],
      "metadata": {
        "id": "2cOyD0uWNUdc"
      }
    },
    {
      "cell_type": "code",
      "source": [
        "def solution(s):\n",
        "  answer = ''\n",
        "  a = len(s) // 2\n",
        "\n",
        "  if len(s) % 2 == 0:\n",
        "    answer = s[a-1:a+1]\n",
        "  else:\n",
        "    answer = s[a]\n",
        "\n",
        "  return answer"
      ],
      "metadata": {
        "id": "CHXoru3rNbaz"
      },
      "execution_count": null,
      "outputs": []
    },
    {
      "cell_type": "code",
      "source": [
        "print(solution(\"abcde\"))\n",
        "print(solution(\"qwer\"))"
      ],
      "metadata": {
        "colab": {
          "base_uri": "https://localhost:8080/"
        },
        "id": "7RCdc4E0N-1o",
        "outputId": "6bd230b1-930f-48cb-9997-1555bd97b328"
      },
      "execution_count": null,
      "outputs": [
        {
          "output_type": "stream",
          "name": "stdout",
          "text": [
            "c\n",
            "we\n"
          ]
        }
      ]
    },
    {
      "cell_type": "code",
      "source": [],
      "metadata": {
        "id": "PrhDQRR6OBtq"
      },
      "execution_count": null,
      "outputs": []
    },
    {
      "cell_type": "markdown",
      "source": [
        "## 수박수박수박수박수박수?\n",
        "길이가 n이고, \"수박수박수박수....\"와 같은 패턴을 유지하는 문자열을 리턴하는 함수, solution을 완성하세요.\\\n",
        "예를들어 n이 4이면 \"수박수박\"을 리턴하고 3이라면 \"수박수\"를 리턴하면 됩니다.\n",
        "\n",
        "- n은 길이 10,000이하인 자연수입니다."
      ],
      "metadata": {
        "id": "jgp8fwdNPgkv"
      }
    },
    {
      "cell_type": "code",
      "source": [
        "def solution(n):\n",
        "  s = '수박' * 10000\n",
        "  answer = s[:n]\n",
        "\n",
        "  return answer"
      ],
      "metadata": {
        "id": "mhNlZ-oLPjZK"
      },
      "execution_count": null,
      "outputs": []
    },
    {
      "cell_type": "code",
      "source": [
        "print(solution(3))\n",
        "print(solution(4))"
      ],
      "metadata": {
        "colab": {
          "base_uri": "https://localhost:8080/"
        },
        "id": "AfXQerU9QMvj",
        "outputId": "653b8e6d-62eb-4b41-f05f-f8cd63918bb6"
      },
      "execution_count": null,
      "outputs": [
        {
          "output_type": "stream",
          "name": "stdout",
          "text": [
            "수박수\n",
            "수박수박\n"
          ]
        }
      ]
    },
    {
      "cell_type": "code",
      "source": [],
      "metadata": {
        "id": "0Gk1IFEEQW9e"
      },
      "execution_count": null,
      "outputs": []
    },
    {
      "cell_type": "markdown",
      "source": [
        "## 내적\n",
        "길이가 같은 두 1차원 정수 배열 a, b가 매개변수로 주어집니다.\\\n",
        "a와 b의 내적을 return 하도록 solution 함수를 완성해주세요.\n",
        "\n",
        "이때, a와 b의 내적은 a[0]*b[0] + a[1]*b[1] + ... + a[n-1]*b[n-1] 입니다. (n은 a, b의 길이)\n",
        "\n",
        "- a, b의 길이는 1 이상 1,000 이하입니다.\n",
        "- a, b의 모든 수는 -1,000 이상 1,000 이하입니다.\n"
      ],
      "metadata": {
        "id": "HtrU27h5QuLG"
      }
    },
    {
      "cell_type": "code",
      "source": [
        "def solution(a, b):\n",
        "  answer = 0\n",
        "\n",
        "  for i in range(len(a)):\n",
        "    answer += a[i] * b[i]\n",
        "\n",
        "  return answer"
      ],
      "metadata": {
        "id": "BHH4O2-RQ05j"
      },
      "execution_count": null,
      "outputs": []
    },
    {
      "cell_type": "code",
      "source": [
        "print(solution([1,2,3,4], [-3,-1,0,2]))\n",
        "print(solution([-1,0,1], [1,0,-1]))"
      ],
      "metadata": {
        "colab": {
          "base_uri": "https://localhost:8080/"
        },
        "id": "hA3bIzKYR13F",
        "outputId": "a150d11b-17cc-49d6-a66c-284b6cc83726"
      },
      "execution_count": null,
      "outputs": [
        {
          "output_type": "stream",
          "name": "stdout",
          "text": [
            "3\n",
            "-2\n"
          ]
        }
      ]
    },
    {
      "cell_type": "code",
      "source": [],
      "metadata": {
        "id": "llF1QPx5SAvC"
      },
      "execution_count": null,
      "outputs": []
    },
    {
      "cell_type": "markdown",
      "source": [
        "## 문자열 내림차순으로 배치하기\n",
        "문자열 s에 나타나는 문자를 큰것부터 작은 순으로 정렬해 새로운 문자열을 리턴하는 함수, solution을 완성해주세요.\\\n",
        "s는 영문 대소문자로만 구성되어 있으며, 대문자는 소문자보다 작은 것으로 간주합니다.\n",
        "\n",
        "- str은 길이 1 이상인 문자열입니다."
      ],
      "metadata": {
        "id": "LdjBuN2cUbhr"
      }
    },
    {
      "cell_type": "code",
      "source": [
        "def solution(s):\n",
        "  answer = ''\n",
        "  lst = []\n",
        "\n",
        "  for i in range(len(s)):\n",
        "    lst = sorted(s, reverse=True)\n",
        "    answer += lst[i]\n",
        "\n",
        "  return answer"
      ],
      "metadata": {
        "id": "pQDCeMkOUhzL"
      },
      "execution_count": null,
      "outputs": []
    },
    {
      "cell_type": "code",
      "source": [
        "sorted(\"Zbcdefg\", reverse=True)"
      ],
      "metadata": {
        "colab": {
          "base_uri": "https://localhost:8080/"
        },
        "id": "P50-zYTIVC7P",
        "outputId": "044249d3-791b-4c1d-fdb5-256532a38474"
      },
      "execution_count": null,
      "outputs": [
        {
          "output_type": "execute_result",
          "data": {
            "text/plain": [
              "['g', 'f', 'e', 'd', 'c', 'b', 'Z']"
            ]
          },
          "metadata": {},
          "execution_count": 89
        }
      ]
    },
    {
      "cell_type": "code",
      "source": [
        "solution(\"Zbcdefg\")"
      ],
      "metadata": {
        "colab": {
          "base_uri": "https://localhost:8080/",
          "height": 35
        },
        "id": "jo63_TR-VGAp",
        "outputId": "55a5eb06-041e-42f7-92b3-c17fe5b18baa"
      },
      "execution_count": null,
      "outputs": [
        {
          "output_type": "execute_result",
          "data": {
            "text/plain": [
              "'gfedcbZ'"
            ],
            "application/vnd.google.colaboratory.intrinsic+json": {
              "type": "string"
            }
          },
          "metadata": {},
          "execution_count": 91
        }
      ]
    },
    {
      "cell_type": "code",
      "source": [
        "def solution(s):\n",
        "  answer = ''.join(sorted(s, reverse=True))\n",
        "\n",
        "  return answer"
      ],
      "metadata": {
        "id": "A7HVdYc-Vx6j"
      },
      "execution_count": null,
      "outputs": []
    },
    {
      "cell_type": "code",
      "source": [
        "solution(\"Zbcdefg\")"
      ],
      "metadata": {
        "colab": {
          "base_uri": "https://localhost:8080/",
          "height": 35
        },
        "id": "jMH4WBaeWVZA",
        "outputId": "4a17784a-093b-411a-8913-770c61bcec30"
      },
      "execution_count": null,
      "outputs": [
        {
          "output_type": "execute_result",
          "data": {
            "text/plain": [
              "'gfedcbZ'"
            ],
            "application/vnd.google.colaboratory.intrinsic+json": {
              "type": "string"
            }
          },
          "metadata": {},
          "execution_count": 93
        }
      ]
    },
    {
      "cell_type": "code",
      "source": [],
      "metadata": {
        "id": "XKE-vHS1WXkK"
      },
      "execution_count": null,
      "outputs": []
    },
    {
      "cell_type": "markdown",
      "source": [
        "## 약수의 개수와 덧셈\n",
        "두 정수 left와 right가 매개변수로 주어집니다.\\\n",
        "left부터 right까지의 모든 수들 중에서, 약수의 개수가 짝수인 수는 더하고,\\\n",
        "약수의 개수가 홀수인 수는 뺀 수를 return 하도록 solution 함수를 완성해주세요.\n",
        "\n",
        "- 1 ≤ left ≤ right ≤ 1,000"
      ],
      "metadata": {
        "id": "FSmMzYVyWc9D"
      }
    },
    {
      "cell_type": "code",
      "source": [
        "def solution(left, right):\n",
        "  answer = 0\n",
        "\n",
        "  for i in range(left, right+1):\n",
        "    cnt = 0\n",
        "    for j in range(1, i+1):\n",
        "      if i % j == 0:\n",
        "        cnt += 1\n",
        "\n",
        "    if cnt % 2 == 0:\n",
        "      answer += i\n",
        "    else:\n",
        "      answer -= i\n",
        "\n",
        "  return answer"
      ],
      "metadata": {
        "id": "QJ2nSZhGWjGf"
      },
      "execution_count": null,
      "outputs": []
    },
    {
      "cell_type": "code",
      "source": [
        "solution(13, 17)"
      ],
      "metadata": {
        "colab": {
          "base_uri": "https://localhost:8080/"
        },
        "id": "nul4gfxvYWHT",
        "outputId": "bfd3c98b-c6a3-4be6-8828-c6b66a6d60af"
      },
      "execution_count": null,
      "outputs": [
        {
          "output_type": "execute_result",
          "data": {
            "text/plain": [
              "43"
            ]
          },
          "metadata": {},
          "execution_count": 97
        }
      ]
    },
    {
      "cell_type": "code",
      "source": [],
      "metadata": {
        "id": "px_0ThUJYYsT"
      },
      "execution_count": null,
      "outputs": []
    },
    {
      "cell_type": "markdown",
      "source": [
        "# 230327"
      ],
      "metadata": {
        "id": "1FaiAND3Buys"
      }
    },
    {
      "cell_type": "markdown",
      "source": [
        "## 문자열 다루기 기본\n",
        "문자열 s의 길이가 4 혹은 6이고, 숫자로만 구성되어있는지 확인해주는 함수, solution을 완성하세요.\\\n",
        "예를 들어 s가 \"a234\"이면 False를 리턴하고 \"1234\"라면 True를 리턴하면 됩니다.\n",
        "\n",
        "- s는 길이 1 이상, 길이 8 이하인 문자열입니다.\n",
        "- s는 영문 알파벳 대소문자 또는 0부터 9까지 숫자로 이루어져 있습니다."
      ],
      "metadata": {
        "id": "G84NYj7UZfs2"
      }
    },
    {
      "cell_type": "code",
      "source": [
        "def solution(s):\n",
        "  answer = True\n",
        "\n",
        "  if len(s) in (4, 6) and s.isdigit() == True:\n",
        "    answer = True\n",
        "  else:\n",
        "    answer = False        \n",
        "\n",
        "  return answer"
      ],
      "metadata": {
        "id": "Up241NlHZlmD"
      },
      "execution_count": null,
      "outputs": []
    },
    {
      "cell_type": "code",
      "source": [
        "print(solution(\"a234\"))\n",
        "print(solution(\"1234\"))"
      ],
      "metadata": {
        "colab": {
          "base_uri": "https://localhost:8080/"
        },
        "id": "dUAzZie1BWIK",
        "outputId": "8a379785-9af2-4c38-92f5-af4b6e6abadf"
      },
      "execution_count": null,
      "outputs": [
        {
          "output_type": "stream",
          "name": "stdout",
          "text": [
            "False\n",
            "True\n"
          ]
        }
      ]
    },
    {
      "cell_type": "code",
      "source": [],
      "metadata": {
        "id": "gcr_jHR7Bbjd"
      },
      "execution_count": null,
      "outputs": []
    },
    {
      "cell_type": "markdown",
      "source": [
        "## 부족한 금액 계산하기\n",
        "새로 생긴 놀이기구는 인기가 매우 많아 줄이 끊이질 않습니다.\\\n",
        "이 놀이기구의 원래 이용료는 price원 인데, 놀이기구를 N 번 째 이용한다면 원래 이용료의 N배를 받기로 하였습니다.\\\n",
        "즉, 처음 이용료가 100이었다면 2번째에는 200, 3번째에는 300으로 요금이 인상됩니다.\\\n",
        "놀이기구를 count번 타게 되면 현재 자신이 가지고 있는 금액에서 얼마가 모자라는지를 return 하도록 solution 함수를 완성하세요.\\\n",
        "단, 금액이 부족하지 않으면 0을 return 하세요.\n",
        "\n",
        "- 놀이기구의 이용료 price : 1 ≤ price ≤ 2,500, price는 자연수\n",
        "- 처음 가지고 있던 금액 money : 1 ≤ money ≤ 1,000,000,000, money는 자연수\n",
        "- 놀이기구의 이용 횟수 count : 1 ≤ count ≤ 2,500, count는 자연수"
      ],
      "metadata": {
        "id": "sXjnlpR3B0lI"
      }
    },
    {
      "cell_type": "code",
      "source": [
        "def solution(price, money, count):\n",
        "  answer = -1\n",
        "  total = 0\n",
        "\n",
        "  for i in range(1, count+1):\n",
        "    total += i*price\n",
        "\n",
        "    if (money - total) > 0:\n",
        "      answer = 0\n",
        "    else:\n",
        "      answer = total - money\n",
        "\n",
        "  return answer"
      ],
      "metadata": {
        "id": "gX-qIZXMCEx9"
      },
      "execution_count": null,
      "outputs": []
    },
    {
      "cell_type": "code",
      "source": [
        "solution(3, 20, 4)"
      ],
      "metadata": {
        "colab": {
          "base_uri": "https://localhost:8080/"
        },
        "id": "l7T9FY3GENIE",
        "outputId": "9f475a5d-31b0-441f-97da-f32468123031"
      },
      "execution_count": null,
      "outputs": [
        {
          "output_type": "execute_result",
          "data": {
            "text/plain": [
              "10"
            ]
          },
          "metadata": {},
          "execution_count": 14
        }
      ]
    },
    {
      "cell_type": "code",
      "source": [],
      "metadata": {
        "id": "B8M4X7OyEP5M"
      },
      "execution_count": null,
      "outputs": []
    },
    {
      "cell_type": "markdown",
      "source": [
        "## 행렬의 덧셈\n",
        "행렬의 덧셈은 행과 열의 크기가 같은 두 행렬의 같은 행, 같은 열의 값을 서로 더한 결과가 됩니다.\\\n",
        "2개의 행렬 arr1과 arr2를 입력받아, 행렬 덧셈의 결과를 반환하는 함수, solution을 완성해주세요.\n",
        "\n",
        "- 행렬 arr1, arr2의 행과 열의 길이는 500을 넘지 않습니다."
      ],
      "metadata": {
        "id": "27FYnWHoVejP"
      }
    },
    {
      "cell_type": "code",
      "source": [
        "a = [[1,2], [2,3]]\n",
        "b = [[3,4], [5,6]]\n",
        "c = [[]]\n",
        "\n",
        "print(a[0][0] + b[0][0])\n",
        "print(a[0][1] + b[0][1])\n",
        "print(a[1][0] + b[1][0])\n",
        "print(a[1][1] + b[1][1])"
      ],
      "metadata": {
        "colab": {
          "base_uri": "https://localhost:8080/"
        },
        "id": "izFr7BSqVjIi",
        "outputId": "ccf6f0ba-d9aa-4b22-a3d7-c67963f238e8"
      },
      "execution_count": null,
      "outputs": [
        {
          "output_type": "stream",
          "name": "stdout",
          "text": [
            "4\n",
            "6\n",
            "7\n",
            "9\n"
          ]
        }
      ]
    },
    {
      "cell_type": "code",
      "source": [
        "def solution(arr1, arr2):\n",
        "  answer = []\n",
        "  \n",
        "  for i in range(len(arr1)):\n",
        "    arr_sum = []\n",
        "    for j in range(len(arr1[i])):\n",
        "      arr_sum.append(arr1[i][j] + arr2[i][j])\n",
        "    answer.append(arr_sum)\n",
        "\n",
        "  return answer"
      ],
      "metadata": {
        "id": "O_B5Z0bEbar8"
      },
      "execution_count": null,
      "outputs": []
    },
    {
      "cell_type": "code",
      "source": [
        "print(solution([[1,2],[2,3]], [[3,4],[5,6]]))\n",
        "print(solution([[1],[2]], [[3],[4]]))"
      ],
      "metadata": {
        "colab": {
          "base_uri": "https://localhost:8080/"
        },
        "id": "a9cC9B09hEd1",
        "outputId": "e2b0119f-6691-484b-b883-ed414f09e6b1"
      },
      "execution_count": null,
      "outputs": [
        {
          "output_type": "stream",
          "name": "stdout",
          "text": [
            "[[4, 6], [7, 9]]\n",
            "[[4], [6]]\n"
          ]
        }
      ]
    },
    {
      "cell_type": "code",
      "source": [],
      "metadata": {
        "id": "QqDV2TC2hSM7"
      },
      "execution_count": null,
      "outputs": []
    },
    {
      "cell_type": "markdown",
      "source": [
        "## 직사각형 별찍기\n",
        "이 문제에는 표준 입력으로 두 개의 정수 n과 m이 주어집니다.\\\n",
        "별(*) 문자를 이용해 가로의 길이가 n, 세로의 길이가 m인 직사각형 형태를 출력해보세요.\n",
        "\n",
        "- n과 m은 각각 1000 이하인 자연수입니다."
      ],
      "metadata": {
        "id": "TO7M1VC6jg0d"
      }
    },
    {
      "cell_type": "code",
      "source": [
        "n, m = map(int, input().strip().split(' '))\n",
        "\n",
        "for i in range(m):\n",
        "  for j in range(n):\n",
        "    print('*', end='')\n",
        "  print('')\n"
      ],
      "metadata": {
        "colab": {
          "base_uri": "https://localhost:8080/"
        },
        "id": "m4vAmoK1jnBI",
        "outputId": "51fd914e-aeb1-47c4-85a0-6c7617fcf163"
      },
      "execution_count": null,
      "outputs": [
        {
          "output_type": "stream",
          "name": "stdout",
          "text": [
            "5 3\n",
            "*****\n",
            "*****\n",
            "*****\n"
          ]
        }
      ]
    },
    {
      "cell_type": "code",
      "source": [
        "n, m = map(int, input().strip().split(' '))\n",
        "answer = ('*'*n + '\\n')*m\n",
        "print(answer)"
      ],
      "metadata": {
        "colab": {
          "base_uri": "https://localhost:8080/"
        },
        "id": "2piqf76ikMm-",
        "outputId": "9244bcee-0110-45d0-8983-77d7b6a2256b"
      },
      "execution_count": null,
      "outputs": [
        {
          "output_type": "stream",
          "name": "stdout",
          "text": [
            "5 3\n",
            "*****\n",
            "*****\n",
            "*****\n",
            "\n"
          ]
        }
      ]
    },
    {
      "cell_type": "code",
      "source": [],
      "metadata": {
        "id": "El6NHJ06qYu4"
      },
      "execution_count": null,
      "outputs": []
    },
    {
      "cell_type": "markdown",
      "source": [
        "## 최대공약수와 최소공배수\n",
        "두 수를 입력받아 두 수의 최대공약수와 최소공배수를 반환하는 함수, solution을 완성해 보세요.\\\n",
        "배열의 맨 앞에 최대공약수, 그다음 최소공배수를 넣어 반환하면 됩니다.\\\n",
        "예를 들어 두 수 3, 12의 최대공약수는 3, 최소공배수는 12이므로 solution(3, 12)는 [3, 12]를 반환해야 합니다.\n",
        "\n",
        "- 두 수는 1이상 1000000이하의 자연수입니다."
      ],
      "metadata": {
        "id": "A9Zl69Zkqo5C"
      }
    },
    {
      "cell_type": "code",
      "source": [
        "def solution(n, m):\n",
        "  answer = []\n",
        "  \n",
        "  # 최대공약수\n",
        "  for i in range(min(n, m), 0, -1):\n",
        "    if n % i == 0 and m % i == 0:\n",
        "      answer.append(i)\n",
        "      break\n",
        "  \n",
        "  # 최소공배수\n",
        "  for j in range(max(n, m), n*m+1):\n",
        "    if j % n == 0 and j % m == 0:\n",
        "      answer.append(j)\n",
        "      break\n",
        "      \n",
        "  return answer"
      ],
      "metadata": {
        "id": "G5RqPFX6qvKJ"
      },
      "execution_count": null,
      "outputs": []
    },
    {
      "cell_type": "code",
      "source": [
        "print(solution(3, 12))\n",
        "print(solution(2, 5))"
      ],
      "metadata": {
        "colab": {
          "base_uri": "https://localhost:8080/"
        },
        "id": "gERTPTaJzTpN",
        "outputId": "68cf88c6-26cf-4855-e9fe-adc9634e2158"
      },
      "execution_count": null,
      "outputs": [
        {
          "output_type": "stream",
          "name": "stdout",
          "text": [
            "[3, 12]\n",
            "[1, 10]\n"
          ]
        }
      ]
    },
    {
      "cell_type": "code",
      "source": [],
      "metadata": {
        "id": "9TjoVVMIzXvo"
      },
      "execution_count": null,
      "outputs": []
    },
    {
      "cell_type": "markdown",
      "source": [
        "## 같은 숫자는 싫어\n",
        "배열 arr가 주어집니다. 배열 arr의 각 원소는 숫자 0부터 9까지로 이루어져 있습니다.\\\n",
        "이때, 배열 arr에서 연속적으로 나타나는 숫자는 하나만 남기고 전부 제거하려고 합니다.\\\n",
        "단, 제거된 후 남은 수들을 반환할 때는 배열 arr의 원소들의 순서를 유지해야 합니다.\\\n",
        "예를 들면,\n",
        "\n",
        "\n",
        "```\n",
        "arr = [1, 1, 3, 3, 0, 1, 1] 이면 [1, 3, 0, 1] 을 return 합니다.\n",
        "arr = [4, 4, 4, 3, 3] 이면 [4, 3] 을 return 합니다.\n",
        "```\n",
        "배열 arr에서 연속적으로 나타나는 숫자는 제거하고 남은 수들을 return 하는 solution 함수를 완성해 주세요.\n",
        "\n",
        "- 배열 arr의 크기 : 1,000,000 이하의 자연수\n",
        "- 배열 arr의 원소의 크기 : 0보다 크거나 같고 9보다 작거나 같은 정수"
      ],
      "metadata": {
        "id": "PZCRoo9T0TlO"
      }
    },
    {
      "cell_type": "code",
      "source": [
        "def solution(arr):\n",
        "  answer = []\n",
        "  answer.append(arr[0])\n",
        "\n",
        "  for i in range(1, len(arr)):\n",
        "    if arr[i] != arr[i-1]:\n",
        "      answer.append(arr[i])\n",
        "      \n",
        "  return answer"
      ],
      "metadata": {
        "id": "m2MhbUww0slA"
      },
      "execution_count": null,
      "outputs": []
    },
    {
      "cell_type": "code",
      "source": [
        "print(solution([1, 1, 3, 3, 0, 1, 1]))\n",
        "print(solution([4, 4, 4, 3, 3]))"
      ],
      "metadata": {
        "colab": {
          "base_uri": "https://localhost:8080/"
        },
        "id": "50gSMbLc2gdg",
        "outputId": "942ff251-3ff8-4f23-a14f-cd5419d2e710"
      },
      "execution_count": null,
      "outputs": [
        {
          "output_type": "stream",
          "name": "stdout",
          "text": [
            "[1, 3, 0, 1]\n",
            "[4, 3]\n"
          ]
        }
      ]
    },
    {
      "cell_type": "code",
      "source": [],
      "metadata": {
        "id": "K060x1jG5GzT"
      },
      "execution_count": null,
      "outputs": []
    },
    {
      "cell_type": "markdown",
      "source": [
        "## 3진법 뒤집기\n",
        "자연수 n이 매개변수로 주어집니다. n을 3진법 상에서 앞뒤로 뒤집은 후,\\\n",
        "이를 다시 10진법으로 표현한 수를 return 하도록 solution 함수를 완성해주세요.\n",
        "\n",
        "- n은 1 이상 100,000,000 이하인 자연수입니다."
      ],
      "metadata": {
        "id": "4M9Df4Sv551s"
      }
    },
    {
      "cell_type": "code",
      "source": [
        "def solution(n):\n",
        "  answer = ''\n",
        "\n",
        "  while n > 0:\n",
        "    n, re = divmod(n, 3)   # n을 3으로 나눈 몫과 나머지\n",
        "    answer += str(re)\n",
        "    \n",
        "  return int(answer, 3)    # 3진법으로 구성된 str 형식의 수를 10진법으로 변환"
      ],
      "metadata": {
        "id": "ghkMn5ZT6AMK"
      },
      "execution_count": null,
      "outputs": []
    },
    {
      "cell_type": "code",
      "source": [
        "print(solution(45))\n",
        "print(solution(125))"
      ],
      "metadata": {
        "colab": {
          "base_uri": "https://localhost:8080/"
        },
        "id": "fNW9bQgkAIIP",
        "outputId": "221c8dbb-df04-4901-9193-5c6e6071ff60"
      },
      "execution_count": null,
      "outputs": [
        {
          "output_type": "stream",
          "name": "stdout",
          "text": [
            "7\n",
            "229\n"
          ]
        }
      ]
    },
    {
      "cell_type": "code",
      "source": [],
      "metadata": {
        "id": "qzBWfuLdAPap"
      },
      "execution_count": null,
      "outputs": []
    },
    {
      "cell_type": "markdown",
      "source": [
        "## 이상한 문자 만들기\n",
        "문자열 s는 한 개 이상의 단어로 구성되어 있습니다. 각 단어는 하나 이상의 공백문자로 구분되어 있습니다.\\\n",
        "각 단어의 짝수번째 알파벳은 대문자로, 홀수번째 알파벳은 소문자로 바꾼 문자열을 리턴하는 함수, solution을 완성하세요.\n",
        "\n",
        "- 문자열 전체의 짝/홀수 인덱스가 아니라, 단어(공백을 기준)별로 짝/홀수 인덱스를 판단해야합니다.\n",
        "- 첫 번째 글자는 0번째 인덱스로 보아 짝수번째 알파벳으로 처리해야 합니다."
      ],
      "metadata": {
        "id": "iL40xZmmCYze"
      }
    },
    {
      "cell_type": "code",
      "source": [
        "def solution(s):\n",
        "  answer = ''\n",
        "  S = s.split(' ')\n",
        "\n",
        "  for i in range(len(S)):\n",
        "    for j in range(len(S[i])):\n",
        "      if j % 2 == 0:\n",
        "        answer += S[i][j].upper()\n",
        "      else:\n",
        "        answer += S[i][j].lower()\n",
        "    answer += ' '\n",
        "\n",
        "  return answer[:-1]"
      ],
      "metadata": {
        "id": "FZGfrZRvCfpU"
      },
      "execution_count": null,
      "outputs": []
    },
    {
      "cell_type": "code",
      "source": [
        "solution(\"try hello world\")"
      ],
      "metadata": {
        "colab": {
          "base_uri": "https://localhost:8080/",
          "height": 35
        },
        "id": "Uf8-oGymF1Y6",
        "outputId": "5adb29f5-ee26-4b58-9c55-c7b7306c27fb"
      },
      "execution_count": null,
      "outputs": [
        {
          "output_type": "execute_result",
          "data": {
            "text/plain": [
              "'TrY HeLlO WoRlD'"
            ],
            "application/vnd.google.colaboratory.intrinsic+json": {
              "type": "string"
            }
          },
          "metadata": {},
          "execution_count": 64
        }
      ]
    },
    {
      "cell_type": "code",
      "source": [
        "s = \"try hello world\"\n",
        "s.split(' ')"
      ],
      "metadata": {
        "colab": {
          "base_uri": "https://localhost:8080/"
        },
        "id": "jNdE5D3BD5HP",
        "outputId": "7a536f7a-366c-423d-a83e-704e28ad2558"
      },
      "execution_count": null,
      "outputs": [
        {
          "output_type": "execute_result",
          "data": {
            "text/plain": [
              "['try', 'hello', 'world']"
            ]
          },
          "metadata": {},
          "execution_count": 52
        }
      ]
    },
    {
      "cell_type": "code",
      "source": [
        "ss = s.split(' ')\n",
        "' '.join(ss)"
      ],
      "metadata": {
        "colab": {
          "base_uri": "https://localhost:8080/",
          "height": 35
        },
        "id": "VR8uimxTD8nK",
        "outputId": "756bb537-13fe-4155-ff65-a7bded36877d"
      },
      "execution_count": null,
      "outputs": [
        {
          "output_type": "execute_result",
          "data": {
            "text/plain": [
              "'try hello world'"
            ],
            "application/vnd.google.colaboratory.intrinsic+json": {
              "type": "string"
            }
          },
          "metadata": {},
          "execution_count": 54
        }
      ]
    },
    {
      "cell_type": "code",
      "source": [
        "ss[0][0].upper()\n",
        "ss"
      ],
      "metadata": {
        "colab": {
          "base_uri": "https://localhost:8080/"
        },
        "id": "pkm_uuLIEFtN",
        "outputId": "35a53548-d9c4-43c9-d872-13c18bfd1c70"
      },
      "execution_count": null,
      "outputs": [
        {
          "output_type": "execute_result",
          "data": {
            "text/plain": [
              "['try', 'hello', 'world']"
            ]
          },
          "metadata": {},
          "execution_count": 60
        }
      ]
    },
    {
      "cell_type": "code",
      "source": [],
      "metadata": {
        "id": "tu5DbblHE4ty"
      },
      "execution_count": null,
      "outputs": []
    },
    {
      "cell_type": "markdown",
      "source": [
        "# 230329"
      ],
      "metadata": {
        "id": "zxuninZdHXH3"
      }
    },
    {
      "cell_type": "markdown",
      "source": [
        "## 예산\n",
        "S사에서는 각 부서에 필요한 물품을 지원해 주기 위해 부서별로 물품을 구매하는데 필요한 금액을 조사했습니다.\\\n",
        "그러나, 전체 예산이 정해져 있기 때문에 모든 부서의 물품을 구매해 줄 수는 없습니다.\\\n",
        "그래서 최대한 많은 부서의 물품을 구매해 줄 수 있도록 하려고 합니다.\n",
        "\n",
        "물품을 구매해 줄 때는 각 부서가 신청한 금액만큼을 모두 지원해 줘야 합니다.\\\n",
        "예를 들어 1,000원을 신청한 부서에는 정확히 1,000원을 지원해야 하며, 1,000원보다 적은 금액을 지원해 줄 수는 없습니다.\n",
        "\n",
        "부서별로 신청한 금액이 들어있는 배열 d와 예산 budget이 매개변수로 주어질 때, 최대 몇 개의 부서에 물품을 지원할 수 있는지 return 하도록 solution 함수를 완성해주세요.\n",
        "\n",
        "- d는 부서별로 신청한 금액이 들어있는 배열이며, 길이(전체 부서의 개수)는 1 이상 100 이하입니다.\n",
        "- d의 각 원소는 부서별로 신청한 금액을 나타내며, 부서별 신청 금액은 1 이상 100,000 이하의 자연수입니다.\n",
        "- budget은 예산을 나타내며, 1 이상 10,000,000 이하의 자연수입니다."
      ],
      "metadata": {
        "id": "hoWRxBYNYqNj"
      }
    },
    {
      "cell_type": "code",
      "source": [
        "def solution(d, budget):\n",
        "  answer = 0\n",
        "  total = 0\n",
        "  d.sort()\n",
        "\n",
        "  for i in range(len(d)):\n",
        "    total += d[i]\n",
        "    if total <= budget:\n",
        "      answer += 1\n",
        "    else:\n",
        "      break\n",
        "\n",
        "  return answer"
      ],
      "metadata": {
        "id": "plvbP8npHYaI"
      },
      "execution_count": null,
      "outputs": []
    },
    {
      "cell_type": "code",
      "source": [
        "print(solution([1,3,2,5,4], 9))\n",
        "print(solution([2,2,3,3], 10))"
      ],
      "metadata": {
        "colab": {
          "base_uri": "https://localhost:8080/"
        },
        "id": "2jBqWPyog7Fc",
        "outputId": "a524ba8d-a53f-4a11-a2a2-fa7faaa9a1ec"
      },
      "execution_count": null,
      "outputs": [
        {
          "output_type": "stream",
          "name": "stdout",
          "text": [
            "3\n",
            "4\n"
          ]
        }
      ]
    },
    {
      "cell_type": "code",
      "source": [],
      "metadata": {
        "id": "wnNyoZdchAo_"
      },
      "execution_count": null,
      "outputs": []
    },
    {
      "cell_type": "markdown",
      "source": [
        "## 시저 암호\n",
        "어떤 문장의 각 알파벳을 일정한 거리만큼 밀어서 다른 알파벳으로 바꾸는 암호화 방식을 시저 암호라고 합니다.\\\n",
        "예를 들어 \"AB\"는 1만큼 밀면 \"BC\"가 되고, 3만큼 밀면 \"DE\"가 됩니다. \"z\"는 1만큼 밀면 \"a\"가 됩니다.\\\n",
        "문자열 s와 거리 n을 입력받아 s를 n만큼 민 암호문을 만드는 함수, solution을 완성해 보세요.\n",
        "\n",
        "- 공백은 아무리 밀어도 공백입니다.\n",
        "- s는 알파벳 소문자, 대문자, 공백으로만 이루어져 있습니다.\n",
        "- s의 길이는 8000이하입니다.\n",
        "- n은 1 이상, 25이하인 자연수입니다."
      ],
      "metadata": {
        "id": "T_b3jwQLmBzn"
      }
    },
    {
      "cell_type": "code",
      "source": [
        "def solution(s, n):\n",
        "  s = list(s)\n",
        "\n",
        "  for i in range(len(s)):\n",
        "    if s[i].isupper():\n",
        "      s[i] = chr((ord(s[i]) - ord('A') + n) % 26 + ord('A'))\n",
        "      print(\"if\", s[i])\n",
        "    elif s[i].islower():\n",
        "      s[i] = chr((ord(s[i]) - ord('a') + n) % 26 + ord('a'))\n",
        "      print(\"elif\", s[i])\n",
        "\n",
        "  return \"\".join(s)"
      ],
      "metadata": {
        "id": "RksUj9qimJK6"
      },
      "execution_count": null,
      "outputs": []
    },
    {
      "cell_type": "code",
      "source": [
        "solution(\"AB\", 1)"
      ],
      "metadata": {
        "colab": {
          "base_uri": "https://localhost:8080/",
          "height": 70
        },
        "id": "WE7xwEX44NpF",
        "outputId": "aec419ab-5211-4376-d88c-5e4c8546f1a7"
      },
      "execution_count": null,
      "outputs": [
        {
          "output_type": "stream",
          "name": "stdout",
          "text": [
            "if B\n",
            "if C\n"
          ]
        },
        {
          "output_type": "execute_result",
          "data": {
            "text/plain": [
              "'BC'"
            ],
            "application/vnd.google.colaboratory.intrinsic+json": {
              "type": "string"
            }
          },
          "metadata": {},
          "execution_count": 7
        }
      ]
    },
    {
      "cell_type": "code",
      "source": [
        "solution(\"z\", 1)"
      ],
      "metadata": {
        "colab": {
          "base_uri": "https://localhost:8080/",
          "height": 53
        },
        "id": "ijkm721x4Rxm",
        "outputId": "56625b97-c341-4e79-c114-42172b9ae23c"
      },
      "execution_count": null,
      "outputs": [
        {
          "output_type": "stream",
          "name": "stdout",
          "text": [
            "elif a\n"
          ]
        },
        {
          "output_type": "execute_result",
          "data": {
            "text/plain": [
              "'a'"
            ],
            "application/vnd.google.colaboratory.intrinsic+json": {
              "type": "string"
            }
          },
          "metadata": {},
          "execution_count": 8
        }
      ]
    },
    {
      "cell_type": "code",
      "source": [
        "solution(\"a B z\", 4)"
      ],
      "metadata": {
        "colab": {
          "base_uri": "https://localhost:8080/",
          "height": 87
        },
        "id": "XoOA_Yj64dqk",
        "outputId": "232fb5eb-e14d-4077-aaf9-204220175730"
      },
      "execution_count": null,
      "outputs": [
        {
          "output_type": "stream",
          "name": "stdout",
          "text": [
            "elif e\n",
            "if F\n",
            "elif d\n"
          ]
        },
        {
          "output_type": "execute_result",
          "data": {
            "text/plain": [
              "'e F d'"
            ],
            "application/vnd.google.colaboratory.intrinsic+json": {
              "type": "string"
            }
          },
          "metadata": {},
          "execution_count": 9
        }
      ]
    },
    {
      "cell_type": "code",
      "source": [],
      "metadata": {
        "id": "FhahCTwQ4pl3"
      },
      "execution_count": null,
      "outputs": []
    },
    {
      "cell_type": "markdown",
      "source": [
        "## 삼총사\n",
        "한국중학교에 다니는 학생들은 각자 정수 번호를 갖고 있습니다.\\\n",
        "이 학교 학생 3명의 정수 번호를 더했을 때 0이 되면 3명의 학생은 삼총사라고 합니다.\\\n",
        "예를 들어, 5명의 학생이 있고, 각각의 정수 번호가 순서대로 -2, 3, 0, 2, -5일 때, 첫 번째, 세 번째, 네 번째 학생의 정수 번호를 더하면 0이므로 세 학생은 삼총사입니다.\\\n",
        "또한, 두 번째, 네 번째, 다섯 번째 학생의 정수 번호를 더해도 0이므로 세 학생도 삼총사입니다.\\\n",
        "따라서 이 경우 한국중학교에서는 두 가지 방법으로 삼총사를 만들 수 있습니다.\n",
        "\n",
        "한국중학교 학생들의 번호를 나타내는 정수 배열 number가 매개변수로 주어질 때, 학생들 중 삼총사를 만들 수 있는 방법의 수를 return 하도록 solution 함수를 완성하세요.\n",
        "\n",
        "- 3 ≤ number의 길이 ≤ 13\n",
        "- -1,000 ≤ number의 각 원소 ≤ 1,000\n",
        "- 서로 다른 학생의 정수 번호가 같을 수 있습니다.\n",
        "\n"
      ],
      "metadata": {
        "id": "Ykl1RmOT5rua"
      }
    },
    {
      "cell_type": "code",
      "source": [
        "def solution(number):\n",
        "  answer = 0\n",
        "\n",
        "  for i in range(len(number)-2):\n",
        "    for j in range(i+1, len(number)-1):\n",
        "      for k in range(j+1, len(number)):\n",
        "        if number[i] + number[j] + number[k] == 0:\n",
        "          print(number[i], number[j], number[k])\n",
        "          answer += 1\n",
        "\n",
        "  return answer"
      ],
      "metadata": {
        "id": "P3wreOHf5w9M"
      },
      "execution_count": null,
      "outputs": []
    },
    {
      "cell_type": "code",
      "source": [
        "solution([-3, -2, -1, 0, 1, 2, 3])"
      ],
      "metadata": {
        "colab": {
          "base_uri": "https://localhost:8080/"
        },
        "id": "50UWbzr--CPh",
        "outputId": "1b02326b-d90e-424c-8d0f-7fc9aa955b58"
      },
      "execution_count": null,
      "outputs": [
        {
          "output_type": "stream",
          "name": "stdout",
          "text": [
            "-3 0 3\n",
            "-3 1 2\n",
            "-2 -1 3\n",
            "-2 0 2\n",
            "-1 0 1\n"
          ]
        },
        {
          "output_type": "execute_result",
          "data": {
            "text/plain": [
              "5"
            ]
          },
          "metadata": {},
          "execution_count": 4
        }
      ]
    },
    {
      "cell_type": "code",
      "source": [
        "from itertools import combinations\n",
        "\n",
        "def solution(number):\n",
        "  num_comb = [sum(comb) for comb in list(combinations(number, 3)) if sum(comb) == 0]\n",
        "  print(num_comb)\n",
        "\n",
        "  return len(num_comb)"
      ],
      "metadata": {
        "id": "hkNBdvGk-Hfb"
      },
      "execution_count": null,
      "outputs": []
    },
    {
      "cell_type": "code",
      "source": [
        "solution([-3, -2, -1, 0, 1, 2, 3])"
      ],
      "metadata": {
        "colab": {
          "base_uri": "https://localhost:8080/"
        },
        "id": "mEwmUW2C_HSG",
        "outputId": "6ded4bb5-d6a0-4869-8416-5ccb69928ff2"
      },
      "execution_count": null,
      "outputs": [
        {
          "output_type": "stream",
          "name": "stdout",
          "text": [
            "[0, 0, 0, 0, 0]\n"
          ]
        },
        {
          "output_type": "execute_result",
          "data": {
            "text/plain": [
              "5"
            ]
          },
          "metadata": {},
          "execution_count": 6
        }
      ]
    },
    {
      "cell_type": "code",
      "source": [],
      "metadata": {
        "id": "wZGaP6mW_Jwm"
      },
      "execution_count": null,
      "outputs": []
    },
    {
      "cell_type": "markdown",
      "source": [
        "## 최소직사각형\n",
        "명함 지갑을 만드는 회사에서 지갑의 크기를 정하려고 합니다.\\\n",
        "다양한 모양과 크기의 명함들을 모두 수납할 수 있으면서, 작아서 들고 다니기 편한 지갑을 만들어야 합니다.\\\n",
        "이러한 요건을 만족하는 지갑을 만들기 위해 디자인팀은 모든 명함의 가로 길이와 세로 길이를 조사했습니다.\n",
        "\n",
        "아래 표는 4가지 명함의 가로 길이와 세로 길이를 나타냅니다.\n",
        "\n",
        "![image.png](data:image/png;base64,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)"
      ],
      "metadata": {
        "id": "B5lSbqQM_8YA"
      }
    },
    {
      "cell_type": "markdown",
      "source": [
        "가장 긴 가로 길이와 세로 길이가 각각 80, 70이기 때문에 80(가로) x 70(세로) 크기의 지갑을 만들면 모든 명함들을 수납할 수 있습니다.\\\n",
        "하지만 2번 명함을 가로로 눕혀 수납한다면 80(가로) x 50(세로) 크기의 지갑으로 모든 명함들을 수납할 수 있습니다. 이때의 지갑 크기는 4000(=80 x 50)입니다.\n",
        "\n",
        "모든 명함의 가로 길이와 세로 길이를 나타내는 2차원 배열 sizes가 매개변수로 주어집니다.\\\n",
        "모든 명함을 수납할 수 있는 가장 작은 지갑을 만들 때, 지갑의 크기를 return 하도록 solution 함수를 완성해주세요.\n",
        "\n",
        "- sizes의 길이는 1 이상 10,000 이하입니다.\n",
        "  - sizes의 원소는 [w, h] 형식입니다.\n",
        "  - w는 명함의 가로 길이를 나타냅니다.\n",
        "  - h는 명함의 세로 길이를 나타냅니다.\n",
        "  - w와 h는 1 이상 1,000 이하인 자연수입니다."
      ],
      "metadata": {
        "id": "_FvT5U1bMK4p"
      }
    },
    {
      "cell_type": "code",
      "source": [
        "def solution(sizes):\n",
        "  w = []\n",
        "  h = []\n",
        "\n",
        "  for i in range(len(sizes)):\n",
        "    if sizes[i][0] >= sizes[i][1]:\n",
        "      w.append(sizes[i][0])\n",
        "      h.append(sizes[i][1])\n",
        "    else:\n",
        "      h.append(sizes[i][0])\n",
        "      w.append(sizes[i][1])\n",
        "\n",
        "  print(max(w), max(h))\n",
        "  \n",
        "  return max(w) * max(h)"
      ],
      "metadata": {
        "id": "SPIJ2a8hMceL"
      },
      "execution_count": null,
      "outputs": []
    },
    {
      "cell_type": "code",
      "source": [
        "print(solution([[60, 50], [30, 70], [60, 30], [80, 40]]))\n",
        "print(solution([[10, 7], [12, 3], [8, 15], [14, 7], [5, 15]]))\n",
        "print(solution([[14, 4], [19, 6], [6, 16], [18, 7], [7, 11]]))"
      ],
      "metadata": {
        "colab": {
          "base_uri": "https://localhost:8080/"
        },
        "id": "N0B1_BPtPvw5",
        "outputId": "0d972d94-68e8-419f-cb05-f7183167d617"
      },
      "execution_count": null,
      "outputs": [
        {
          "output_type": "stream",
          "name": "stdout",
          "text": [
            "80 50\n",
            "4000\n",
            "15 8\n",
            "120\n",
            "19 7\n",
            "133\n"
          ]
        }
      ]
    },
    {
      "cell_type": "code",
      "source": [
        "def solution(sizes):\n",
        "  return max(max(x) for x in sizes) * max(min(x) for x in sizes)"
      ],
      "metadata": {
        "id": "mcQDHSxoQCRI"
      },
      "execution_count": null,
      "outputs": []
    },
    {
      "cell_type": "code",
      "source": [
        "print(solution([[60, 50], [30, 70], [60, 30], [80, 40]]))\n",
        "print(solution([[10, 7], [12, 3], [8, 15], [14, 7], [5, 15]]))\n",
        "print(solution([[14, 4], [19, 6], [6, 16], [18, 7], [7, 11]]))"
      ],
      "metadata": {
        "colab": {
          "base_uri": "https://localhost:8080/"
        },
        "id": "VNB8Kr9SQZMh",
        "outputId": "754d837e-7c0c-4029-c679-fb333baae7ba"
      },
      "execution_count": null,
      "outputs": [
        {
          "output_type": "stream",
          "name": "stdout",
          "text": [
            "4000\n",
            "120\n",
            "133\n"
          ]
        }
      ]
    },
    {
      "cell_type": "code",
      "source": [],
      "metadata": {
        "id": "vjJ5Ae8dQaU5"
      },
      "execution_count": null,
      "outputs": []
    },
    {
      "cell_type": "markdown",
      "source": [
        "# 230406"
      ],
      "metadata": {
        "id": "YJp8pqjmRFKJ"
      }
    },
    {
      "cell_type": "markdown",
      "source": [
        "## [1차] 비밀지도\n",
        "네오는 평소 프로도가 비상금을 숨겨놓는 장소를 알려줄 비밀지도를 손에 넣었다.\\\n",
        "그런데 이 비밀지도는 숫자로 암호화되어 있어 위치를 확인하기 위해서는 암호를 해독해야 한다.\\\n",
        "다행히 지도 암호를 해독할 방법을 적어놓은 메모도 함께 발견했다.\n",
        "\n",
        "지도는 한 변의 길이가 n인 정사각형 배열 형태로, 각 칸은 \"공백\"(\" \") 또는 \"벽\"(\"#\") 두 종류로 이루어져 있다.\\\n",
        "전체 지도는 두 장의 지도를 겹쳐서 얻을 수 있다. 각각 \"지도 1\"과 \"지도 2\"라고 하자.\\\n",
        "지도 1 또는 지도 2 중 어느 하나라도 벽인 부분은 전체 지도에서도 벽이다.\\\n",
        "지도 1과 지도 2에서 모두 공백인 부분은 전체 지도에서도 공백이다.\\\n",
        "\"지도 1\"과 \"지도 2\"는 각각 정수 배열로 암호화되어 있다.\\\n",
        "암호화된 배열은 지도의 각 가로줄에서 벽 부분을 1, 공백 부분을 0으로 부호화했을 때 얻어지는 이진수에 해당하는 값의 배열이다."
      ],
      "metadata": {
        "id": "Gv7DnlC5RKc0"
      }
    },
    {
      "cell_type": "markdown",
      "source": [
        "![image.png](data:image/png;base64,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)"
      ],
      "metadata": {
        "id": "KvPTBN8yR2RG"
      }
    },
    {
      "cell_type": "markdown",
      "source": [
        "네오가 프로도의 비상금을 손에 넣을 수 있도록, 비밀지도의 암호를 해독하는 작업을 도와줄 프로그램을 작성하라.\n",
        "\n",
        "[입력 형식]\\\n",
        "입력으로 지도의 한 변 크기 n 과 2개의 정수 배열 arr1, arr2가 들어온다.\n",
        "- 1 ≦ n ≦ 16\n",
        "- arr1, arr2는 길이 n인 정수 배열로 주어진다.\n",
        "- 정수 배열의 각 원소 x를 이진수로 변환했을 때의 길이는 n 이하이다. 즉, 0 ≦ x ≦ 2n - 1을 만족한다.\n",
        "\n",
        "[출력 형식]\\\n",
        "원래의 비밀지도를 해독하여 '#', '공백' 으로 구성된 문자열 배열로 출력하라."
      ],
      "metadata": {
        "id": "9yby5rEhsJaO"
      }
    },
    {
      "cell_type": "code",
      "source": [
        "def solution(n, arr1, arr2):\n",
        "  answer = []\n",
        "\n",
        "  for i in range(n):\n",
        "    tmp = bin(arr1[i] | arr2[i])  # 공백+벽=벽, 공백+공백=공백 --> or 연산, 2진법 숫자로 변환 --> bin()\n",
        "    tmp = tmp[2:].zfill(n)   # 앞에 2개의 문자 제거, n자리수를 맞추기 위해 나머지는 0으로 채움 --> zfill(n)\n",
        "    tmp = tmp.replace('1', '#').replace('0', ' ')  # 2진법 숫자를 '#' 과 ' ' 으로 치환\n",
        "    \n",
        "    answer.append(tmp)\n",
        "\n",
        "\n",
        "  return answer"
      ],
      "metadata": {
        "id": "m91tB-lIRGyD"
      },
      "execution_count": 2,
      "outputs": []
    },
    {
      "cell_type": "code",
      "source": [],
      "metadata": {
        "id": "-1de_dCUxTEm"
      },
      "execution_count": null,
      "outputs": []
    },
    {
      "cell_type": "markdown",
      "source": [
        "## 문자열 내 마음대로 정렬하기\n",
        "문자열로 구성된 리스트 strings와, 정수 n이 주어졌을 때, 각 문자열의 인덱스 n번째 글자를 기준으로 오름차순 정렬하려 합니다.\\\n",
        "예를 들어 strings가 [\"sun\", \"bed\", \"car\"]이고 n이 1이면 각 단어의 인덱스 1의 문자 \"u\", \"e\", \"a\"로 strings를 정렬합니다.\n",
        "\n",
        "- strings는 길이 1 이상, 50이하인 배열입니다.\n",
        "- strings의 원소는 소문자 알파벳으로 이루어져 있습니다.\n",
        "- strings의 원소는 길이 1 이상, 100이하인 문자열입니다.\n",
        "- 모든 strings의 원소의 길이는 n보다 큽니다.\n",
        "- 인덱스 1의 문자가 같은 문자열이 여럿 일 경우, 사전순으로 앞선 문자열이 앞쪽에 위치합니다."
      ],
      "metadata": {
        "id": "-uiLcGEJ0y4K"
      }
    },
    {
      "cell_type": "code",
      "source": [
        "def solution(strings, n):\n",
        "  \n",
        "  answer = sorted(strings, key=lambda x: (x[n], x))\n",
        "\n",
        "  return answer"
      ],
      "metadata": {
        "id": "D7n-bxKP05u5"
      },
      "execution_count": 5,
      "outputs": []
    },
    {
      "cell_type": "code",
      "source": [
        "solution([\"sun\", \"bed\", \"car\"], 1)"
      ],
      "metadata": {
        "colab": {
          "base_uri": "https://localhost:8080/"
        },
        "id": "Vu5OXsGU9Q4B",
        "outputId": "b89923d9-aac3-447f-805f-850255696d6e"
      },
      "execution_count": 6,
      "outputs": [
        {
          "output_type": "execute_result",
          "data": {
            "text/plain": [
              "['car', 'bed', 'sun']"
            ]
          },
          "metadata": {},
          "execution_count": 6
        }
      ]
    },
    {
      "cell_type": "code",
      "source": [
        "solution([\"abce\", \"abcd\", \"cdx\"], 2)"
      ],
      "metadata": {
        "colab": {
          "base_uri": "https://localhost:8080/"
        },
        "id": "y55yMRf99UEx",
        "outputId": "6846bdbc-a1ea-4ad6-e576-bb9e1ca2c029"
      },
      "execution_count": 7,
      "outputs": [
        {
          "output_type": "execute_result",
          "data": {
            "text/plain": [
              "['abcd', 'abce', 'cdx']"
            ]
          },
          "metadata": {},
          "execution_count": 7
        }
      ]
    },
    {
      "cell_type": "code",
      "source": [],
      "metadata": {
        "id": "zF42O8UZ9eE8"
      },
      "execution_count": null,
      "outputs": []
    },
    {
      "cell_type": "markdown",
      "source": [
        "## 숫자 문자열과 영단어\n",
        "네오와 프로도가 숫자놀이를 하고 있습니다.\\\n",
        "네오가 프로도에게 숫자를 건넬 때 일부 자릿수를 영단어로 바꾼 카드를 건네주면 프로도는 원래 숫자를 찾는 게임입니다.\n",
        "\n",
        "다음은 숫자의 일부 자릿수를 영단어로 바꾸는 예시입니다.\n",
        "\n",
        "- 1478 → \"one4seveneight\"\n",
        "- 234567 → \"23four5six7\"\n",
        "- 10203 → \"1zerotwozero3\"\n",
        "\n",
        "이렇게 숫자의 일부 자릿수가 영단어로 바뀌어졌거나, 혹은 바뀌지 않고 그대로인 문자열 s가 매개변수로 주어집니다.\\\n",
        "s가 의미하는 원래 숫자를 return 하도록 solution 함수를 완성해주세요."
      ],
      "metadata": {
        "id": "iD3JDatn928w"
      }
    },
    {
      "cell_type": "markdown",
      "source": [
        "![image.png](data:image/png;base64,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)"
      ],
      "metadata": {
        "id": "mdf5py2k-Ojk"
      }
    },
    {
      "cell_type": "markdown",
      "source": [
        "제한사항\n",
        "- 1 ≤ s의 길이 ≤ 50\n",
        "- s가 \"zero\" 또는 \"0\"으로 시작하는 경우는 주어지지 않습니다.\n",
        "- return 값이 1 이상 2,000,000,000 이하의 정수가 되는 올바른 입력만 s로 주어집니다."
      ],
      "metadata": {
        "id": "jNvAqDHf-O0W"
      }
    },
    {
      "cell_type": "code",
      "source": [
        "def solution(s):\n",
        "  dic = {'zero':'0', 'one':'1', 'two':'2', 'three':'3', 'four':'4', 'five':'5', 'six':'6', 'seven':'7', 'eight':'8', 'nine':'9'}\n",
        "\n",
        "  for key in dic:\n",
        "    s = s.replace(key, dic[key])\n",
        "    \n",
        "  return int(s)"
      ],
      "metadata": {
        "id": "3LDFVf2Y-N84"
      },
      "execution_count": 16,
      "outputs": []
    },
    {
      "cell_type": "code",
      "source": [
        "print(solution(\"one4seveneight\"))\n",
        "print(solution(\"23four5six7\"))\n",
        "print(solution(\"2three45sixseven\"))\n",
        "print(solution(\"123\"))"
      ],
      "metadata": {
        "colab": {
          "base_uri": "https://localhost:8080/"
        },
        "id": "4h6-AjYLBNDV",
        "outputId": "fa194715-59ff-4f7a-ae31-5b46c9a8c769"
      },
      "execution_count": 17,
      "outputs": [
        {
          "output_type": "stream",
          "name": "stdout",
          "text": [
            "1478\n",
            "234567\n",
            "234567\n",
            "123\n"
          ]
        }
      ]
    },
    {
      "cell_type": "code",
      "source": [],
      "metadata": {
        "id": "hqFEKUqxD6dC"
      },
      "execution_count": null,
      "outputs": []
    },
    {
      "cell_type": "markdown",
      "source": [
        "## k번째 수\n",
        "배열 array의 i번째 숫자부터 j번째 숫자까지 자르고 정렬했을 때, k번째에 있는 수를 구하려 합니다.\n",
        "\n",
        "예를 들어 array가 [1, 5, 2, 6, 3, 7, 4], i = 2, j = 5, k = 3이라면\n",
        "\n",
        "1. array의 2번째부터 5번째까지 자르면 [5, 2, 6, 3]입니다.\n",
        "2. 1에서 나온 배열을 정렬하면 [2, 3, 5, 6]입니다.\n",
        "3. 2에서 나온 배열의 3번째 숫자는 5입니다.\n",
        "\n",
        "배열 array, [i, j, k]를 원소로 가진 2차원 배열 commands가 매개변수로 주어질 때,\\\n",
        "commands의 모든 원소에 대해 앞서 설명한 연산을 적용했을 때 나온 결과를\\\n",
        "배열에 담아 return 하도록 solution 함수를 작성해주세요.\n",
        "\n",
        "- array의 길이는 1 이상 100 이하입니다.\n",
        "- array의 각 원소는 1 이상 100 이하입니다.\n",
        "- commands의 길이는 1 이상 50 이하입니다.\n",
        "- commands의 각 원소는 길이가 3입니다."
      ],
      "metadata": {
        "id": "COvqm_FvE-92"
      }
    },
    {
      "cell_type": "code",
      "source": [
        "def solution(array, commands):\n",
        "  answer = []\n",
        "  ans = []\n",
        "\n",
        "  for com in commands:\n",
        "    print('com:', com)\n",
        "    ans = array[com[0]-1 : com[1]]\n",
        "    print('ans:', ans)\n",
        "    ans = sorted(ans)\n",
        "    print('sorted:', ans)\n",
        "    answer.append(ans[com[2]-1])\n",
        "    print('answer:', answer)\n",
        "    print('end'+'\\n')\n",
        "\n",
        "  return answer"
      ],
      "metadata": {
        "id": "M13ot3ZUFK0a"
      },
      "execution_count": 22,
      "outputs": []
    },
    {
      "cell_type": "code",
      "source": [
        "solution([1, 5, 2, 6, 3, 7, 4], [[2, 5, 3], [4, 4, 1], [1, 7, 3]])"
      ],
      "metadata": {
        "colab": {
          "base_uri": "https://localhost:8080/"
        },
        "id": "3EBmERdYHZu6",
        "outputId": "fc8aa5b2-5ec9-4e88-a972-9907d216bec2"
      },
      "execution_count": 23,
      "outputs": [
        {
          "output_type": "stream",
          "name": "stdout",
          "text": [
            "com: [2, 5, 3]\n",
            "ans: [5, 2, 6, 3]\n",
            "sorted: [2, 3, 5, 6]\n",
            "answer: [5]\n",
            "end\n",
            "\n",
            "com: [4, 4, 1]\n",
            "ans: [6]\n",
            "sorted: [6]\n",
            "answer: [5, 6]\n",
            "end\n",
            "\n",
            "com: [1, 7, 3]\n",
            "ans: [1, 5, 2, 6, 3, 7, 4]\n",
            "sorted: [1, 2, 3, 4, 5, 6, 7]\n",
            "answer: [5, 6, 3]\n",
            "end\n",
            "\n"
          ]
        },
        {
          "output_type": "execute_result",
          "data": {
            "text/plain": [
              "[5, 6, 3]"
            ]
          },
          "metadata": {},
          "execution_count": 23
        }
      ]
    },
    {
      "cell_type": "code",
      "source": [],
      "metadata": {
        "id": "af6oGbkxHdoM"
      },
      "execution_count": null,
      "outputs": []
    },
    {
      "cell_type": "markdown",
      "source": [
        "## 크기가 작은 부분 문자열\n",
        "숫자로 이루어진 문자열 t와 p가 주어질 때, t에서 p와 길이가 같은 부분문자열 중에서,\\\n",
        "이 부분문자열이 나타내는 수가 p가 나타내는 수보다 작거나 같은 것이 나오는 횟수를\\\n",
        "return하는 함수 solution을 완성하세요.\n",
        "\n",
        "예를 들어, t=\"3141592\"이고 p=\"271\" 인 경우, t의 길이가 3인 부분 문자열은 314, 141, 415, 159, 592입니다.\\\n",
        "이 문자열이 나타내는 수 중 271보다 작거나 같은 수는 141, 159 2개 입니다.\n",
        "\n",
        "- 1 ≤ p의 길이 ≤ 18\n",
        "- p의 길이 ≤ t의 길이 ≤ 10,000\n",
        "- t와 p는 숫자로만 이루어진 문자열이며, 0으로 시작하지 않습니다."
      ],
      "metadata": {
        "id": "P-ItUF8PI0AQ"
      }
    },
    {
      "cell_type": "code",
      "source": [
        "def solution(t, p):\n",
        "  answer = 0\n",
        "\n",
        "  for i in range(len(t)-len(p)+1):\n",
        "    if int(t[i:len(p)+i]) <= int(p):\n",
        "      answer += 1\n",
        "    else:\n",
        "      pass\n",
        "\n",
        "  return answer"
      ],
      "metadata": {
        "id": "NVOtPEgII6dq"
      },
      "execution_count": 27,
      "outputs": []
    },
    {
      "cell_type": "code",
      "source": [
        "print(solution(\"3141592\", \"271\"\t))\n",
        "print(solution(\"500220839878\", \"7\"))\n",
        "print(solution(\"10203\", \"15\"))"
      ],
      "metadata": {
        "colab": {
          "base_uri": "https://localhost:8080/"
        },
        "id": "kH7euGfUNZkU",
        "outputId": "e9941b32-d07e-49e0-9141-e9e1369259ff"
      },
      "execution_count": 28,
      "outputs": [
        {
          "output_type": "stream",
          "name": "stdout",
          "text": [
            "2\n",
            "8\n",
            "3\n"
          ]
        }
      ]
    },
    {
      "cell_type": "code",
      "source": [],
      "metadata": {
        "id": "qO30bS6sOIEH"
      },
      "execution_count": null,
      "outputs": []
    },
    {
      "cell_type": "markdown",
      "source": [
        "## 두 개 뽑아서 더하기\n",
        "정수 배열 numbers가 주어집니다. numbers에서 서로 다른 인덱스에 있는 두 개의 수를\\\n",
        "뽑아 더해서 만들 수 있는 모든 수를 배열에 오름차순으로 담아 return 하도록 solution 함수를 완성해주세요.\n",
        "\n",
        "- numbers의 길이는 2 이상 100 이하입니다.\n",
        "- numbers의 모든 수는 0 이상 100 이하입니다."
      ],
      "metadata": {
        "id": "6uNyvLeNOr46"
      }
    },
    {
      "cell_type": "code",
      "source": [
        "def solution(numbers):\n",
        "  answer = []\n",
        "\n",
        "  for i in range(len(numbers)):\n",
        "    for j in range(i+1, len(numbers)):\n",
        "      a = numbers[i] + numbers[j]\n",
        "      print('numbers[i]:', numbers[i])\n",
        "      print('numbers[j]:', numbers[j])\n",
        "      print('a:', a)\n",
        "      print()\n",
        "    \n",
        "      if a not in answer:\n",
        "        answer.append(a)\n",
        "\n",
        "  return sorted(answer)"
      ],
      "metadata": {
        "id": "F-pij3pfO1l5"
      },
      "execution_count": 45,
      "outputs": []
    },
    {
      "cell_type": "code",
      "source": [
        "solution([2,1,3,4,1])"
      ],
      "metadata": {
        "colab": {
          "base_uri": "https://localhost:8080/"
        },
        "id": "x1WMqS8kP4bb",
        "outputId": "d3d1cb45-e485-463d-cdfd-f1be2411473d"
      },
      "execution_count": 46,
      "outputs": [
        {
          "output_type": "stream",
          "name": "stdout",
          "text": [
            "numbers[i]: 2\n",
            "numbers[j]: 1\n",
            "a: 3\n",
            "\n",
            "numbers[i]: 2\n",
            "numbers[j]: 3\n",
            "a: 5\n",
            "\n",
            "numbers[i]: 2\n",
            "numbers[j]: 4\n",
            "a: 6\n",
            "\n",
            "numbers[i]: 2\n",
            "numbers[j]: 1\n",
            "a: 3\n",
            "\n",
            "numbers[i]: 1\n",
            "numbers[j]: 3\n",
            "a: 4\n",
            "\n",
            "numbers[i]: 1\n",
            "numbers[j]: 4\n",
            "a: 5\n",
            "\n",
            "numbers[i]: 1\n",
            "numbers[j]: 1\n",
            "a: 2\n",
            "\n",
            "numbers[i]: 3\n",
            "numbers[j]: 4\n",
            "a: 7\n",
            "\n",
            "numbers[i]: 3\n",
            "numbers[j]: 1\n",
            "a: 4\n",
            "\n",
            "numbers[i]: 4\n",
            "numbers[j]: 1\n",
            "a: 5\n",
            "\n"
          ]
        },
        {
          "output_type": "execute_result",
          "data": {
            "text/plain": [
              "[2, 3, 4, 5, 6, 7]"
            ]
          },
          "metadata": {},
          "execution_count": 46
        }
      ]
    },
    {
      "cell_type": "code",
      "source": [],
      "metadata": {
        "id": "2pQA6bGzQdGD"
      },
      "execution_count": null,
      "outputs": []
    },
    {
      "cell_type": "markdown",
      "source": [
        "## 콜라 문제\n",
        "오래전 유행했던 콜라 문제가 있습니다. 콜라 문제의 지문은 다음과 같습니다.\n",
        "\n",
        "\n",
        "\n",
        "> 정답은 아무에게도 말하지 마세요.\\\n",
        "콜라 빈 병 2개를 가져다주면 콜라 1병을 주는 마트가 있다.\\\n",
        "빈 병 20개를 가져다주면 몇 병을 받을 수 있는가?\\\n",
        "단, 보유 중인 빈 병이 2개 미만이면, 콜라를 받을 수 없다.\n",
        "\n",
        "문제를 풀던 상빈이는 콜라 문제의 완벽한 해답을 찾았습니다. 상빈이가 푼 방법은 아래 그림과 같습니다.\n",
        "\n",
        "우선 콜라 빈 병 20병을 가져가서 10병을 받습니다. 받은 10병을 모두 마신 뒤, 가져가서 5병을 받습니다.\\\n",
        "5병 중 4병을 모두 마신 뒤 가져가서 2병을 받고, 또 2병을 모두 마신 뒤 가져가서 1병을 받습니다.\\\n",
        "받은 1병과 5병을 받았을 때 남은 1병을 모두 마신 뒤 가져가면 1병을 또 받을 수 있습니다.\\\n",
        "이 경우 상빈이는 총 10 + 5 + 2 + 1 + 1 = 19병의 콜라를 받을 수 있습니다.\n",
        "\n"
      ],
      "metadata": {
        "id": "7ilbN0MuBbFm"
      }
    },
    {
      "cell_type": "markdown",
      "source": [
        "![image.png](data:image/png;base64,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)"
      ],
      "metadata": {
        "id": "hnYhg6pfCAgD"
      }
    },
    {
      "cell_type": "markdown",
      "source": [
        "문제를 열심히 풀던 상빈이는 일반화된 콜라 문제를 생각했습니다.\\\n",
        "이 문제는 빈 병 a개를 가져다주면 콜라 b병을 주는 마트가 있을 때, 빈 병 n개를 가져다주면 몇 병을 받을 수 있는지 계산하는 문제입니다.\\\n",
        "기존 콜라 문제와 마찬가지로, 보유 중인 빈 병이 a개 미만이면, 추가적으로 빈 병을 받을 순 없습니다.\\\n",
        "상빈이는 열심히 고심했지만, 일반화된 콜라 문제의 답을 찾을 수 없었습니다. 상빈이를 도와, 일반화된 콜라 문제를 해결하는 프로그램을 만들어 주세요.\n",
        "\n",
        "콜라를 받기 위해 마트에 주어야 하는 병 수 a, 빈 병 a개를 가져다 주면 마트가 주는 콜라 병 수 b, 상빈이가 가지고 있는 빈 병의 개수 n이 매개변수로 주어집니다. 상빈이가 받을 수 있는 콜라의 병 수를 return 하도록 solution 함수를 작성해주세요.\n",
        "\n",
        "- 1 ≤ b < a ≤ n ≤ 1,000,000\n",
        "- 정답은 항상 int 범위를 넘지 않게 주어집니다."
      ],
      "metadata": {
        "id": "Q2jgSyoeCDgg"
      }
    },
    {
      "cell_type": "code",
      "source": [
        "def solution(a, b, n):\n",
        "  answer = 0\n",
        "  \n",
        "  while n >= a:\n",
        "    print('n:', n)\n",
        "    extra = n % a\n",
        "    print('n % a:', extra)\n",
        "    n = (n//a)*b   # 마트에서 받은 콜라의 수\n",
        "    print('(n//a)*b:', n)\n",
        "    answer += n    # 받은 콜라의 수의 합 계산\n",
        "    print('answer:', answer)\n",
        "    n += extra     # 남은 병을 더해서 다음에 마트갈 때 이용\n",
        "    print('n:', n)\n",
        "    print()\n",
        "\n",
        "  return answer"
      ],
      "metadata": {
        "id": "JnsvkxC7BxuH"
      },
      "execution_count": 54,
      "outputs": []
    },
    {
      "cell_type": "code",
      "source": [
        "# solution(a, b, n)\n",
        "solution(2, 1, 20)"
      ],
      "metadata": {
        "colab": {
          "base_uri": "https://localhost:8080/"
        },
        "id": "6Eqp7bWwIfIU",
        "outputId": "de41ac0a-04b0-437d-e634-e16c944aa829"
      },
      "execution_count": 56,
      "outputs": [
        {
          "output_type": "stream",
          "name": "stdout",
          "text": [
            "n: 20\n",
            "n % a: 0\n",
            "(n//a)*b: 10\n",
            "answer: 10\n",
            "n: 10\n",
            "\n",
            "n: 10\n",
            "n % a: 0\n",
            "(n//a)*b: 5\n",
            "answer: 15\n",
            "n: 5\n",
            "\n",
            "n: 5\n",
            "n % a: 1\n",
            "(n//a)*b: 2\n",
            "answer: 17\n",
            "n: 3\n",
            "\n",
            "n: 3\n",
            "n % a: 1\n",
            "(n//a)*b: 1\n",
            "answer: 18\n",
            "n: 2\n",
            "\n",
            "n: 2\n",
            "n % a: 0\n",
            "(n//a)*b: 1\n",
            "answer: 19\n",
            "n: 1\n",
            "\n"
          ]
        },
        {
          "output_type": "execute_result",
          "data": {
            "text/plain": [
              "19"
            ]
          },
          "metadata": {},
          "execution_count": 56
        }
      ]
    },
    {
      "cell_type": "code",
      "source": [
        "solution(3, 1, 20)"
      ],
      "metadata": {
        "colab": {
          "base_uri": "https://localhost:8080/"
        },
        "id": "FsTXmm_aImJH",
        "outputId": "25168e2f-bae9-4611-f70e-39b061afd3f9"
      },
      "execution_count": 57,
      "outputs": [
        {
          "output_type": "stream",
          "name": "stdout",
          "text": [
            "n: 20\n",
            "n % a: 2\n",
            "(n//a)*b: 6\n",
            "answer: 6\n",
            "n: 8\n",
            "\n",
            "n: 8\n",
            "n % a: 2\n",
            "(n//a)*b: 2\n",
            "answer: 8\n",
            "n: 4\n",
            "\n",
            "n: 4\n",
            "n % a: 1\n",
            "(n//a)*b: 1\n",
            "answer: 9\n",
            "n: 2\n",
            "\n"
          ]
        },
        {
          "output_type": "execute_result",
          "data": {
            "text/plain": [
              "9"
            ]
          },
          "metadata": {},
          "execution_count": 57
        }
      ]
    },
    {
      "cell_type": "code",
      "source": [],
      "metadata": {
        "id": "W_zKZ4smJnUJ"
      },
      "execution_count": null,
      "outputs": []
    },
    {
      "cell_type": "markdown",
      "source": [
        "## 푸드 파이트 대회\n",
        "수웅이는 매달 주어진 음식을 빨리 먹는 푸드 파이트 대회를 개최합니다. 이 대회에서 선수들은 1대 1로 대결하며, 매 대결마다 음식의 종류와 양이 바뀝니다. 대결은 준비된 음식들을 일렬로 배치한 뒤, 한 선수는 제일 왼쪽에 있는 음식부터 오른쪽으로, 다른 선수는 제일 오른쪽에 있는 음식부터 왼쪽으로 순서대로 먹는 방식으로 진행됩니다. 중앙에는 물을 배치하고, 물을 먼저 먹는 선수가 승리하게 됩니다.\n",
        "\n",
        "이때, 대회의 공정성을 위해 두 선수가 먹는 음식의 종류와 양이 같아야 하며, 음식을 먹는 순서도 같아야 합니다. 또한, 이번 대회부터는 칼로리가 낮은 음식을 먼저 먹을 수 있게 배치하여 선수들이 음식을 더 잘 먹을 수 있게 하려고 합니다. 이번 대회를 위해 수웅이는 음식을 주문했는데, 대회의 조건을 고려하지 않고 음식을 주문하여 몇 개의 음식은 대회에 사용하지 못하게 되었습니다.\n",
        "\n",
        "예를 들어, 3가지의 음식이 준비되어 있으며, 칼로리가 적은 순서대로 1번 음식을 3개, 2번 음식을 4개, 3번 음식을 6개 준비했으며, 물을 편의상 0번 음식이라고 칭한다면, 두 선수는 1번 음식 1개, 2번 음식 2개, 3번 음식 3개씩을 먹게 되므로 음식의 배치는 \"1223330333221\"이 됩니다. 따라서 1번 음식 1개는 대회에 사용하지 못합니다.\n",
        "\n",
        "수웅이가 준비한 음식의 양을 칼로리가 적은 순서대로 나타내는 정수 배열 food가 주어졌을 때, 대회를 위한 음식의 배치를 나타내는 문자열을 return 하는 solution 함수를 완성해주세요.\n",
        "\n",
        "- 2 ≤ food의 길이 ≤ 9\n",
        "- 1 ≤ food의 각 원소 ≤ 1,000\n",
        "- food에는 칼로리가 적은 순서대로 음식의 양이 담겨 있습니다.\n",
        "- food[i]는 i번 음식의 수입니다.\n",
        "- food[0]은 수웅이가 준비한 물의 양이며, 항상 1입니다.\n",
        "- 정답의 길이가 3 이상인 경우만 입력으로 주어집니다.\n"
      ],
      "metadata": {
        "id": "ey-qdpY6KET7"
      }
    },
    {
      "cell_type": "code",
      "source": [
        "def solution(food):\n",
        "  answer = ''\n",
        "\n",
        "  for i in range(1, len(food)):\n",
        "    answer += str(i)*(food[i]//2)\n",
        "  \n",
        "  answer += '0'\n",
        "\n",
        "  for j in range(len(food)-1, 0, -1):\n",
        "    answer += str(j)*(food[j]//2)\n",
        "\n",
        "  return answer"
      ],
      "metadata": {
        "id": "6jT_1gWdKNUi"
      },
      "execution_count": 84,
      "outputs": []
    },
    {
      "cell_type": "code",
      "source": [
        "a = [1, 3, 4, 6]\n",
        "\n",
        "for i in range(1, len(a)):\n",
        "  print(str(i)*(a[i]//2))\n",
        "\n",
        "print('0')\n",
        "\n",
        "for i in range(len(a)-1, 0, -1):\n",
        "  print(str(i)*(a[i]//2))"
      ],
      "metadata": {
        "colab": {
          "base_uri": "https://localhost:8080/"
        },
        "id": "SStaFDPQMGRz",
        "outputId": "dc9b0ef4-c57f-4f03-9d34-b6f34c16b95b"
      },
      "execution_count": 76,
      "outputs": [
        {
          "output_type": "stream",
          "name": "stdout",
          "text": [
            "1\n",
            "22\n",
            "333\n",
            "0\n",
            "333\n",
            "22\n",
            "1\n"
          ]
        }
      ]
    },
    {
      "cell_type": "code",
      "source": [
        "solution([1, 3, 4, 6])"
      ],
      "metadata": {
        "colab": {
          "base_uri": "https://localhost:8080/",
          "height": 35
        },
        "id": "Tx8XKdMVMvVi",
        "outputId": "5a35138c-2c9a-483b-c659-be3dd3a9fcc0"
      },
      "execution_count": 85,
      "outputs": [
        {
          "output_type": "execute_result",
          "data": {
            "text/plain": [
              "'1223330333221'"
            ],
            "application/vnd.google.colaboratory.intrinsic+json": {
              "type": "string"
            }
          },
          "metadata": {},
          "execution_count": 85
        }
      ]
    },
    {
      "cell_type": "code",
      "source": [
        "solution([1, 7, 1, 2])"
      ],
      "metadata": {
        "colab": {
          "base_uri": "https://localhost:8080/",
          "height": 35
        },
        "id": "gStd8lOTO5zS",
        "outputId": "3240a7fc-af00-47a5-e694-a1baeecf838c"
      },
      "execution_count": 86,
      "outputs": [
        {
          "output_type": "execute_result",
          "data": {
            "text/plain": [
              "'111303111'"
            ],
            "application/vnd.google.colaboratory.intrinsic+json": {
              "type": "string"
            }
          },
          "metadata": {},
          "execution_count": 86
        }
      ]
    },
    {
      "cell_type": "code",
      "source": [],
      "metadata": {
        "id": "CC3E2lYTPKpN"
      },
      "execution_count": null,
      "outputs": []
    }
  ]
}